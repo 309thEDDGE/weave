{
 "cells": [
  {
   "cell_type": "code",
   "execution_count": 4,
   "id": "cc77df24",
   "metadata": {},
   "outputs": [],
   "source": [
    "import weave\n",
    "import os\n",
    "import pymongo\n",
    "from fsspec.implementations.local import LocalFileSystem\n",
    "local_fs = LocalFileSystem()"
   ]
  },
  {
   "cell_type": "code",
   "execution_count": 12,
   "id": "f26e2345",
   "metadata": {},
   "outputs": [
    {
     "data": {
      "text/plain": [
       "['manifest', 'supplement']"
      ]
     },
     "execution_count": 12,
     "metadata": {},
     "output_type": "execute_result"
    }
   ],
   "source": [
    "client = weave.config.get_mongo_db()\n",
    "client.list_database_names()\n",
    "client[\"pytest-temp-pantry\"].list_collection_names()"
   ]
  },
  {
   "cell_type": "code",
   "execution_count": 5,
   "id": "5deaa4f0",
   "metadata": {},
   "outputs": [],
   "source": [
    "pantry = weave.Pantry(weave.IndexPandas, pantry_path=\"pytest-temp-pantry\", file_system=LocalFileSystem(), mongo_client=client)"
   ]
  },
  {
   "cell_type": "code",
   "execution_count": 7,
   "id": "efbd5ac6",
   "metadata": {},
   "outputs": [],
   "source": [
    "mon_loader = weave.mongo_loader.MongoLoader(pantry=pantry, mongo_client=client)"
   ]
  },
  {
   "cell_type": "code",
   "execution_count": 8,
   "id": "5ae078e0",
   "metadata": {},
   "outputs": [],
   "source": [
    "mon_loader.load_mongo([\"0\", \"1\", \"2\"])"
   ]
  },
  {
   "cell_type": "code",
   "execution_count": null,
   "id": "c2fa7eda",
   "metadata": {},
   "outputs": [],
   "source": [
    "client = pymongo.MongoClient(\n",
    "            host=os.environ[\"MONGODB_HOST\"],\n",
    "            username=os.environ[\"MONGODB_USERNAME\"],\n",
    "            password=os.environ[\"MONGODB_PASSWORD\"],\n",
    "            port=int(os.environ.get(\"MONGODB_PORT\", 27017))\n",
    "        )"
   ]
  },
  {
   "cell_type": "code",
   "execution_count": 4,
   "id": "23fe929f",
   "metadata": {},
   "outputs": [
    {
     "data": {
      "text/plain": [
       "['sample_mflix', 'weave-db', 'admin', 'local']"
      ]
     },
     "execution_count": 4,
     "metadata": {},
     "output_type": "execute_result"
    }
   ],
   "source": [
    "client.list_database_names()"
   ]
  },
  {
   "cell_type": "code",
   "execution_count": null,
   "id": "b2b47d68",
   "metadata": {},
   "outputs": [],
   "source": []
  }
 ],
 "metadata": {
  "kernelspec": {
   "display_name": "base",
   "language": "python",
   "name": "python3"
  },
  "language_info": {
   "codemirror_mode": {
    "name": "ipython",
    "version": 3
   },
   "file_extension": ".py",
   "mimetype": "text/x-python",
   "name": "python",
   "nbconvert_exporter": "python",
   "pygments_lexer": "ipython3",
   "version": "3.13.2"
  }
 },
 "nbformat": 4,
 "nbformat_minor": 5
}
