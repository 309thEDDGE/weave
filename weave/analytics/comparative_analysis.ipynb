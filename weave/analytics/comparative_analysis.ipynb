{
 "cells": [
  {
   "cell_type": "code",
   "execution_count": 1,
   "id": "849e21e9",
   "metadata": {},
   "outputs": [],
   "source": [
    "import shutil\n",
    "import time\n",
    "\n",
    "import matplotlib.pyplot as plt\n",
    "import pingouin as pg\n",
    "import numpy as np\n",
    "import pandas as pd\n",
    "from fsspec.implementations.local import LocalFileSystem\n",
    "from dask import delayed\n",
    "from dask.distributed import Client, LocalCluster\n",
    "\n",
    "from dummy_baskets import generate_dummy_baskets, run_index_basket_upload_test\n",
    "from weave.index.index_pandas import IndexPandas\n",
    "from weave.index.index_sqlite import IndexSQLite\n",
    "from weave.index.index_sql import IndexSQL\n",
    "from weave import Pantry"
   ]
  },
  {
   "cell_type": "markdown",
   "id": "892ee39b",
   "metadata": {},
   "source": [
    "In this notebok we will run 5 upload tests on each index backend (IndexPandas, IndexSQLite, IndexSQL) and compare the average upload time. We will be using 1000 baskets, 10 upload files, 1 MB file size, and 5 basket types as the parameters in each test. Statistical tests will be performed across the three different index backends to determine if there is a statistical significant difference in upload time between all the index backends."
   ]
  },
  {
   "cell_type": "markdown",
   "id": "4cd01347",
   "metadata": {},
   "source": [
    "Index Pandas Tests"
   ]
  },
  {
   "cell_type": "code",
   "execution_count": 20,
   "id": "e01c9ab5",
   "metadata": {},
   "outputs": [
    {
     "name": "stdout",
     "output_type": "stream",
     "text": [
      "Pandas index upload times: [183.0740385055542, 224.86337041854858, 189.71711921691895, 188.273184299469, 312.51142859458923]\n",
      "Average pandas index upload time for 5 different tests: 219.687828207016\n"
     ]
    }
   ],
   "source": [
    "pandas_times = []\n",
    "baskets = generate_dummy_baskets(basket_count=1000, file_count=10, file_size_mb=1, file_path=\"dummy_txt\", num_basket_types=5)\n",
    "\n",
    "for _ in range(5):\n",
    "    pantry_pandas = Pantry(IndexPandas, pantry_path=\"dummy_pantry\", file_system=LocalFileSystem())\n",
    "    test_time = run_index_basket_upload_test(basket_list=baskets, pantry=pantry_pandas)\n",
    "    pandas_times.append(test_time)\n",
    "    shutil.rmtree(\"dummy_pantry\")\n",
    "\n",
    "shutil.rmtree(\"dummy_txt\")\n",
    "\n",
    "print(f\"Pandas index upload times: {pandas_times}\")\n",
    "print(f\"Average pandas index upload time for 5 different tests: {np.mean(pandas_times)}\")"
   ]
  },
  {
   "cell_type": "markdown",
   "id": "902299cb",
   "metadata": {},
   "source": [
    "Index SQLite Tests"
   ]
  },
  {
   "cell_type": "code",
   "execution_count": 21,
   "id": "79e67211",
   "metadata": {},
   "outputs": [
    {
     "name": "stdout",
     "output_type": "stream",
     "text": [
      "SQLite index upload times: [51.797475814819336, 48.11146354675293, 48.86608600616455, 44.29097294807434, 50.7223641872406]\n",
      "Average SQLite index upload time for 5 different tests: 48.757672500610354\n"
     ]
    }
   ],
   "source": [
    "sqlite_times = []\n",
    "baskets = generate_dummy_baskets(basket_count=1000, file_count=10, file_size_mb=1, file_path=\"dummy_txt\", num_basket_types=5)\n",
    "\n",
    "for _ in range(5):\n",
    "    pantry_sqlite = Pantry(IndexSQLite, pantry_path=\"dummy_pantry\", file_system=LocalFileSystem())\n",
    "    test_time = run_index_basket_upload_test(basket_list=baskets, pantry=pantry_sqlite)\n",
    "    sqlite_times.append(test_time)\n",
    "    shutil.rmtree(\"dummy_pantry\")\n",
    "    pantry_sqlite.index.drop_index()\n",
    "\n",
    "shutil.rmtree(\"dummy_txt\")\n",
    "\n",
    "print(f\"SQLite index upload times: {sqlite_times}\")\n",
    "print(f\"Average SQLite index upload time for 5 different tests: {np.mean(sqlite_times)}\")"
   ]
  },
  {
   "cell_type": "markdown",
   "id": "38ef3321",
   "metadata": {},
   "source": [
    "Index SQL Tests"
   ]
  },
  {
   "cell_type": "code",
   "execution_count": 22,
   "id": "ca29f03b",
   "metadata": {},
   "outputs": [
    {
     "name": "stdout",
     "output_type": "stream",
     "text": [
      "SQL index upload times: [36.481626987457275, 35.98214626312256, 35.64037036895752, 35.77695393562317, 36.6458683013916]\n",
      "Average SQL index upload time for 5 different tests: 36.105393171310425\n"
     ]
    }
   ],
   "source": [
    "sql_times = []\n",
    "baskets = generate_dummy_baskets(basket_count=1000, file_count=10, file_size_mb=1, file_path=\"dummy_txt\", num_basket_types=5)\n",
    "\n",
    "for _ in range(5):\n",
    "    pantry_sql = Pantry(IndexSQL, pantry_path=\"dummy_pantry\", file_system=LocalFileSystem())\n",
    "    test_time = run_index_basket_upload_test(basket_list=baskets, pantry=pantry_sql)\n",
    "    sql_times.append(test_time)\n",
    "    shutil.rmtree(\"dummy_pantry\")\n",
    "    pantry_sql.index.drop_index()\n",
    "\n",
    "shutil.rmtree(\"dummy_txt\")\n",
    "\n",
    "print(f\"SQL index upload times: {sql_times}\")\n",
    "print(f\"Average SQL index upload time for 5 different tests: {np.mean(sql_times)}\")"
   ]
  },
  {
   "cell_type": "markdown",
   "id": "3853d871",
   "metadata": {},
   "source": [
    "Performance Difference Between all 3 Index Backends"
   ]
  },
  {
   "cell_type": "code",
   "execution_count": 23,
   "id": "046dff48",
   "metadata": {},
   "outputs": [
    {
     "data": {
      "text/html": [
       "<div>\n",
       "<style scoped>\n",
       "    .dataframe tbody tr th:only-of-type {\n",
       "        vertical-align: middle;\n",
       "    }\n",
       "\n",
       "    .dataframe tbody tr th {\n",
       "        vertical-align: top;\n",
       "    }\n",
       "\n",
       "    .dataframe thead th {\n",
       "        text-align: right;\n",
       "    }\n",
       "</style>\n",
       "<table border=\"1\" class=\"dataframe\">\n",
       "  <thead>\n",
       "    <tr style=\"text-align: right;\">\n",
       "      <th></th>\n",
       "      <th>Pandas Index</th>\n",
       "      <th>SQLite Index</th>\n",
       "      <th>SQL Index</th>\n",
       "    </tr>\n",
       "  </thead>\n",
       "  <tbody>\n",
       "    <tr>\n",
       "      <th>0</th>\n",
       "      <td>183.074039</td>\n",
       "      <td>51.797476</td>\n",
       "      <td>36.481627</td>\n",
       "    </tr>\n",
       "    <tr>\n",
       "      <th>1</th>\n",
       "      <td>224.863370</td>\n",
       "      <td>48.111464</td>\n",
       "      <td>35.982146</td>\n",
       "    </tr>\n",
       "    <tr>\n",
       "      <th>2</th>\n",
       "      <td>189.717119</td>\n",
       "      <td>48.866086</td>\n",
       "      <td>35.640370</td>\n",
       "    </tr>\n",
       "    <tr>\n",
       "      <th>3</th>\n",
       "      <td>188.273184</td>\n",
       "      <td>44.290973</td>\n",
       "      <td>35.776954</td>\n",
       "    </tr>\n",
       "    <tr>\n",
       "      <th>4</th>\n",
       "      <td>312.511429</td>\n",
       "      <td>50.722364</td>\n",
       "      <td>36.645868</td>\n",
       "    </tr>\n",
       "  </tbody>\n",
       "</table>\n",
       "</div>"
      ],
      "text/plain": [
       "   Pandas Index  SQLite Index  SQL Index\n",
       "0    183.074039     51.797476  36.481627\n",
       "1    224.863370     48.111464  35.982146\n",
       "2    189.717119     48.866086  35.640370\n",
       "3    188.273184     44.290973  35.776954\n",
       "4    312.511429     50.722364  36.645868"
      ]
     },
     "execution_count": 23,
     "metadata": {},
     "output_type": "execute_result"
    }
   ],
   "source": [
    "index_times_df = pd.DataFrame({\n",
    "    \"Pandas Index\": pandas_times,\n",
    "    \"SQLite Index\": sqlite_times,\n",
    "    \"SQL Index\": sql_times\n",
    "})\n",
    "index_times_df"
   ]
  },
  {
   "cell_type": "code",
   "execution_count": 24,
   "id": "0afb9e5d",
   "metadata": {},
   "outputs": [
    {
     "data": {
      "image/png": "[encoded data removed]",
      "text/plain": [
       "<Figure size 640x480 with 1 Axes>"
      ]
     },
     "metadata": {},
     "output_type": "display_data"
    }
   ],
   "source": [
    "categories = [\"Pandas Index\", \"SQLite Index\", \"SQL Index\"]\n",
    "values = [np.mean(pandas_times), np.mean(sqlite_times), np.mean(sql_times)]\n",
    "\n",
    "plt.bar(categories, values, color='skyblue', edgecolor='black')\n",
    "\n",
    "plt.xlabel('Type of Index Backend')\n",
    "plt.ylabel('Seconds')\n",
    "plt.title('Average Upload Time for Five Tests')\n",
    "\n",
    "plt.show()"
   ]
  },
  {
   "cell_type": "code",
   "execution_count": 25,
   "id": "edb01967",
   "metadata": {},
   "outputs": [],
   "source": [
    "all_times = pandas_times + sqlite_times + sql_times\n",
    "\n",
    "times_df = pd.DataFrame({\n",
    "    \"Index\": [\"Pandas\"] * 5 + [\"SQLite\"] * 5 + [\"SQL\"] * 5,\n",
    "    \"Upload_Time\": all_times\n",
    "})"
   ]
  },
  {
   "cell_type": "code",
   "execution_count": 26,
   "id": "8500cbef",
   "metadata": {},
   "outputs": [
    {
     "data": {
      "image/png": "[encoded data removed]",
      "text/plain": [
       "<Figure size 640x480 with 1 Axes>"
      ]
     },
     "metadata": {},
     "output_type": "display_data"
    }
   ],
   "source": [
    "color_map = {\"Pandas\": \"blue\", \"SQLite\": \"green\", \"SQL\": \"purple\"}\n",
    "colors = times_df['Index'].map(color_map)\n",
    "\n",
    "plt.scatter(times_df['Index'], times_df['Upload_Time'], c=colors)\n",
    "\n",
    "plt.xlabel('Type of Index Backend')\n",
    "plt.ylabel('Seconds')\n",
    "plt.title('Upload Times for Five Tests')\n",
    "\n",
    "plt.show()"
   ]
  },
  {
   "cell_type": "markdown",
   "id": "d0199fe6",
   "metadata": {},
   "source": [
    "ANOVA Test Between the Three Index Backends"
   ]
  },
  {
   "cell_type": "code",
   "execution_count": 27,
   "id": "0738892d",
   "metadata": {},
   "outputs": [
    {
     "data": {
      "text/html": [
       "<div>\n",
       "<style scoped>\n",
       "    .dataframe tbody tr th:only-of-type {\n",
       "        vertical-align: middle;\n",
       "    }\n",
       "\n",
       "    .dataframe tbody tr th {\n",
       "        vertical-align: top;\n",
       "    }\n",
       "\n",
       "    .dataframe thead th {\n",
       "        text-align: right;\n",
       "    }\n",
       "</style>\n",
       "<table border=\"1\" class=\"dataframe\">\n",
       "  <thead>\n",
       "    <tr style=\"text-align: right;\">\n",
       "      <th></th>\n",
       "      <th>Source</th>\n",
       "      <th>ddof1</th>\n",
       "      <th>ddof2</th>\n",
       "      <th>F</th>\n",
       "      <th>p-unc</th>\n",
       "      <th>np2</th>\n",
       "    </tr>\n",
       "  </thead>\n",
       "  <tbody>\n",
       "    <tr>\n",
       "      <th>0</th>\n",
       "      <td>Index</td>\n",
       "      <td>2</td>\n",
       "      <td>12</td>\n",
       "      <td>52.995003</td>\n",
       "      <td>0.000001</td>\n",
       "      <td>0.898296</td>\n",
       "    </tr>\n",
       "  </tbody>\n",
       "</table>\n",
       "</div>"
      ],
      "text/plain": [
       "  Source  ddof1  ddof2          F     p-unc       np2\n",
       "0  Index      2     12  52.995003  0.000001  0.898296"
      ]
     },
     "execution_count": 27,
     "metadata": {},
     "output_type": "execute_result"
    }
   ],
   "source": [
    "pg.anova(data=times_df, dv='Upload_Time', between='Index')"
   ]
  },
  {
   "cell_type": "markdown",
   "id": "80fa73a2",
   "metadata": {},
   "source": [
    "Since we have a p-value of less than 0.05 we can say that the average upload times between index backends are statistically different.\n",
    "Now we can perform a post-hoc analysis to determine which specific index upload times are statistically different between each other."
   ]
  },
  {
   "cell_type": "code",
   "execution_count": 28,
   "id": "acf6e86e",
   "metadata": {},
   "outputs": [
    {
     "data": {
      "text/html": [
       "<div>\n",
       "<style scoped>\n",
       "    .dataframe tbody tr th:only-of-type {\n",
       "        vertical-align: middle;\n",
       "    }\n",
       "\n",
       "    .dataframe tbody tr th {\n",
       "        vertical-align: top;\n",
       "    }\n",
       "\n",
       "    .dataframe thead th {\n",
       "        text-align: right;\n",
       "    }\n",
       "</style>\n",
       "<table border=\"1\" class=\"dataframe\">\n",
       "  <thead>\n",
       "    <tr style=\"text-align: right;\">\n",
       "      <th></th>\n",
       "      <th>A</th>\n",
       "      <th>B</th>\n",
       "      <th>mean(A)</th>\n",
       "      <th>mean(B)</th>\n",
       "      <th>diff</th>\n",
       "      <th>se</th>\n",
       "      <th>T</th>\n",
       "      <th>p-tukey</th>\n",
       "      <th>hedges</th>\n",
       "    </tr>\n",
       "  </thead>\n",
       "  <tbody>\n",
       "    <tr>\n",
       "      <th>0</th>\n",
       "      <td>Pandas</td>\n",
       "      <td>SQL</td>\n",
       "      <td>219.688</td>\n",
       "      <td>36.105</td>\n",
       "      <td>183.582</td>\n",
       "      <td>19.919</td>\n",
       "      <td>9.216</td>\n",
       "      <td>0.000</td>\n",
       "      <td>4.305</td>\n",
       "    </tr>\n",
       "    <tr>\n",
       "      <th>1</th>\n",
       "      <td>Pandas</td>\n",
       "      <td>SQLite</td>\n",
       "      <td>219.688</td>\n",
       "      <td>48.758</td>\n",
       "      <td>170.930</td>\n",
       "      <td>19.919</td>\n",
       "      <td>8.581</td>\n",
       "      <td>0.000</td>\n",
       "      <td>4.003</td>\n",
       "    </tr>\n",
       "    <tr>\n",
       "      <th>2</th>\n",
       "      <td>SQL</td>\n",
       "      <td>SQLite</td>\n",
       "      <td>36.105</td>\n",
       "      <td>48.758</td>\n",
       "      <td>-12.652</td>\n",
       "      <td>19.919</td>\n",
       "      <td>-0.635</td>\n",
       "      <td>0.804</td>\n",
       "      <td>-5.523</td>\n",
       "    </tr>\n",
       "  </tbody>\n",
       "</table>\n",
       "</div>"
      ],
      "text/plain": [
       "        A       B  mean(A)  mean(B)     diff      se      T  p-tukey  hedges\n",
       "0  Pandas     SQL  219.688   36.105  183.582  19.919  9.216    0.000   4.305\n",
       "1  Pandas  SQLite  219.688   48.758  170.930  19.919  8.581    0.000   4.003\n",
       "2     SQL  SQLite   36.105   48.758  -12.652  19.919 -0.635    0.804  -5.523"
      ]
     },
     "execution_count": 28,
     "metadata": {},
     "output_type": "execute_result"
    }
   ],
   "source": [
    "times_df.pairwise_tukey(dv='Upload_Time', between='Index').round(3)"
   ]
  },
  {
   "cell_type": "markdown",
   "id": "1581029b",
   "metadata": {},
   "source": [
    "Since each p-value in the post-hoc analysis (besides the difference between SQL and SQLite) is less than 0.05, we can determine that there is a statistically significant difference between the Pandas and SQL indexes, and the Pandas and SQLite indexes.\n",
    "\n",
    "Indexes Ranked by Upload Time:\n",
    "1. SQL\n",
    "2. SQLite\n",
    "3. Pandas"
   ]
  },
  {
   "cell_type": "markdown",
   "id": "9c8ebfe4",
   "metadata": {},
   "source": [
    "***We are now going to run all of the same tests using 5 concurrent processes instead of one. However, we will only be testing***\n",
    "***with SQLite and SQL as the Pandas Index does not work with concurrency***"
   ]
  },
  {
   "cell_type": "code",
   "execution_count": 11,
   "id": "1d8f6573",
   "metadata": {},
   "outputs": [],
   "source": [
    "# Set up a local cluster and client with 5 concurrent processes\n",
    "cluster = LocalCluster(n_workers=5, threads_per_worker=1, processes=True)\n",
    "client = Client(cluster)"
   ]
  },
  {
   "cell_type": "markdown",
   "id": "0e92b421",
   "metadata": {},
   "source": [
    "**Index SQLite Concurrency Tests**"
   ]
  },
  {
   "cell_type": "code",
   "execution_count": 13,
   "id": "96dad6cd",
   "metadata": {},
   "outputs": [
    {
     "name": "stdout",
     "output_type": "stream",
     "text": [
      "SQLite index upload times with 5 concurrent processes: [18.143439531326294, 17.832154273986816, 17.978291273117065, 18.14603090286255, 17.76979970932007]\n",
      "Average sqlite index upload time for 5 different tests: 17.973943138122557\n"
     ]
    }
   ],
   "source": [
    "con_sqlite_times = []\n",
    "baskets = generate_dummy_baskets(basket_count=1000, file_count=10, file_size_mb=1, file_path=\"dummy_txt\", num_basket_types=5)\n",
    "\n",
    "for _ in range(5):\n",
    "    pantry = Pantry(IndexSQLite, pantry_path=\"dummy_pantry\", file_system=LocalFileSystem())\n",
    "    \n",
    "    # Create a delayed function to upload all of our chunks\n",
    "    @delayed\n",
    "    def upload_chunk(chunk):\n",
    "        pantry = Pantry(IndexSQLite, pantry_path=\"dummy_pantry\", file_system=LocalFileSystem())\n",
    "        run_index_basket_upload_test(chunk, pantry)\n",
    "\n",
    "    # Create 5 equal chunks each with 200 baskets\n",
    "    chunks = [baskets[i:i+200] for i in range(0, len(baskets), 200)]\n",
    "\n",
    "    # Upload all chunks in parallel\n",
    "    delayed_uploads = [upload_chunk(chunk) for chunk in chunks]\n",
    "\n",
    "    start_time = time.time()\n",
    "    results = client.compute(delayed_uploads, sync=True)\n",
    "    end_time = time.time()\n",
    "    test_time = end_time - start_time\n",
    "\n",
    "    con_sqlite_times.append(test_time)\n",
    "    shutil.rmtree(\"dummy_pantry\")\n",
    "    pantry.index.drop_index()\n",
    "\n",
    "shutil.rmtree(\"dummy_txt\")\n",
    "\n",
    "print(f\"SQLite index upload times with 5 concurrent processes: {con_sqlite_times}\")\n",
    "print(f\"Average sqlite index upload time for 5 different tests: {np.mean(con_sqlite_times)}\")"
   ]
  },
  {
   "cell_type": "markdown",
   "id": "82c9b086",
   "metadata": {},
   "source": [
    "**Index SQLite Concurrency Tests**"
   ]
  },
  {
   "cell_type": "code",
   "execution_count": 14,
   "id": "527f1ad1",
   "metadata": {},
   "outputs": [
    {
     "name": "stdout",
     "output_type": "stream",
     "text": [
      "SQL index upload times with 5 concurrent processes: [9.457438230514526, 9.557574272155762, 9.530535697937012, 9.62836766242981, 9.402531385421753]\n",
      "Average SQL index upload time for 5 different tests: 9.515289449691773\n"
     ]
    }
   ],
   "source": [
    "con_sql_times = []\n",
    "baskets = generate_dummy_baskets(basket_count=1000, file_count=10, file_size_mb=1, file_path=\"dummy_txt\", num_basket_types=5)\n",
    "\n",
    "for _ in range(5):\n",
    "    pantry = Pantry(IndexSQL, pantry_path=\"dummy_pantry\", file_system=LocalFileSystem())\n",
    "    \n",
    "    # Create a delayed function to upload all of our chunks\n",
    "    @delayed\n",
    "    def upload_chunk(chunk):\n",
    "        pantry = Pantry(IndexSQL, pantry_path=\"dummy_pantry\", file_system=LocalFileSystem())\n",
    "        run_index_basket_upload_test(chunk, pantry)\n",
    "\n",
    "    # Create 5 equal chunks each with 200 baskets\n",
    "    chunks = [baskets[i:i+200] for i in range(0, len(baskets), 200)]\n",
    "\n",
    "    # Upload all chunks in parallel\n",
    "    delayed_uploads = [upload_chunk(chunk) for chunk in chunks]\n",
    "\n",
    "    start_time = time.time()\n",
    "    results = client.compute(delayed_uploads, sync=True)\n",
    "    end_time = time.time()\n",
    "    test_time = end_time - start_time\n",
    "\n",
    "    con_sql_times.append(test_time)\n",
    "    shutil.rmtree(\"dummy_pantry\")\n",
    "    pantry.index.drop_index()\n",
    "\n",
    "shutil.rmtree(\"dummy_txt\")\n",
    "\n",
    "print(f\"SQL index upload times with 5 concurrent processes: {con_sql_times}\")\n",
    "print(f\"Average SQL index upload time for 5 different tests: {np.mean(con_sql_times)}\")"
   ]
  },
  {
   "cell_type": "markdown",
   "id": "fdc217ad",
   "metadata": {},
   "source": [
    "Concurrency performance difference between SQLite and SQL indexes"
   ]
  },
  {
   "cell_type": "code",
   "execution_count": 15,
   "id": "b83723d5",
   "metadata": {},
   "outputs": [
    {
     "data": {
      "text/html": [
       "<div>\n",
       "<style scoped>\n",
       "    .dataframe tbody tr th:only-of-type {\n",
       "        vertical-align: middle;\n",
       "    }\n",
       "\n",
       "    .dataframe tbody tr th {\n",
       "        vertical-align: top;\n",
       "    }\n",
       "\n",
       "    .dataframe thead th {\n",
       "        text-align: right;\n",
       "    }\n",
       "</style>\n",
       "<table border=\"1\" class=\"dataframe\">\n",
       "  <thead>\n",
       "    <tr style=\"text-align: right;\">\n",
       "      <th></th>\n",
       "      <th>SQLite Index Concurrency</th>\n",
       "      <th>SQL Index Concurrency</th>\n",
       "    </tr>\n",
       "  </thead>\n",
       "  <tbody>\n",
       "    <tr>\n",
       "      <th>0</th>\n",
       "      <td>18.143440</td>\n",
       "      <td>9.457438</td>\n",
       "    </tr>\n",
       "    <tr>\n",
       "      <th>1</th>\n",
       "      <td>17.832154</td>\n",
       "      <td>9.557574</td>\n",
       "    </tr>\n",
       "    <tr>\n",
       "      <th>2</th>\n",
       "      <td>17.978291</td>\n",
       "      <td>9.530536</td>\n",
       "    </tr>\n",
       "    <tr>\n",
       "      <th>3</th>\n",
       "      <td>18.146031</td>\n",
       "      <td>9.628368</td>\n",
       "    </tr>\n",
       "    <tr>\n",
       "      <th>4</th>\n",
       "      <td>17.769800</td>\n",
       "      <td>9.402531</td>\n",
       "    </tr>\n",
       "  </tbody>\n",
       "</table>\n",
       "</div>"
      ],
      "text/plain": [
       "   SQLite Index Concurrency  SQL Index Concurrency\n",
       "0                 18.143440               9.457438\n",
       "1                 17.832154               9.557574\n",
       "2                 17.978291               9.530536\n",
       "3                 18.146031               9.628368\n",
       "4                 17.769800               9.402531"
      ]
     },
     "execution_count": 15,
     "metadata": {},
     "output_type": "execute_result"
    }
   ],
   "source": [
    "con_index_times_df = pd.DataFrame({\n",
    "    \"SQLite Index Concurrency\": con_sqlite_times,\n",
    "    \"SQL Index Concurrency\": con_sql_times\n",
    "})\n",
    "con_index_times_df"
   ]
  },
  {
   "cell_type": "code",
   "execution_count": 16,
   "id": "5ef9054a",
   "metadata": {},
   "outputs": [
    {
     "data": {
      "image/png": "[encoded data removed]",
      "text/plain": [
       "<Figure size 640x480 with 1 Axes>"
      ]
     },
     "metadata": {},
     "output_type": "display_data"
    }
   ],
   "source": [
    "categories = [\"SQLite Index\", \"SQL Index\"]\n",
    "values = [np.mean(con_sqlite_times), np.mean(con_sql_times)]\n",
    "\n",
    "plt.bar(categories, values, color='skyblue', edgecolor='black')\n",
    "\n",
    "plt.xlabel('Type of Index Backend')\n",
    "plt.ylabel('Seconds')\n",
    "plt.title('Average Upload Time for Five Tests Using 5 Concurrent Processes')\n",
    "\n",
    "plt.show()"
   ]
  },
  {
   "cell_type": "code",
   "execution_count": 17,
   "id": "a64ebc0e",
   "metadata": {},
   "outputs": [],
   "source": [
    "con_all_times = con_sqlite_times + con_sql_times\n",
    "\n",
    "con_times_df = pd.DataFrame({\n",
    "    \"Index\": [\"SQLite\"] * 5 + [\"SQL\"] * 5,\n",
    "    \"Upload_Time\": con_all_times\n",
    "})"
   ]
  },
  {
   "cell_type": "code",
   "execution_count": 18,
   "id": "2162fd5c",
   "metadata": {},
   "outputs": [
    {
     "data": {
      "image/png": "[encoded data removed]",
      "text/plain": [
       "<Figure size 640x480 with 1 Axes>"
      ]
     },
     "metadata": {},
     "output_type": "display_data"
    }
   ],
   "source": [
    "color_map = {\"SQLite\": \"green\", \"SQL\": \"purple\"}\n",
    "colors = con_times_df['Index'].map(color_map)\n",
    "\n",
    "plt.scatter(con_times_df['Index'], con_times_df['Upload_Time'], c=colors)\n",
    "\n",
    "plt.xlabel('Type of Index Backend')\n",
    "plt.ylabel('Seconds')\n",
    "plt.title('Upload Times for Five Tests Using 5 Concurrent Processes')\n",
    "\n",
    "plt.show()"
   ]
  },
  {
   "cell_type": "markdown",
   "id": "c61ec51c",
   "metadata": {},
   "source": [
    "2 sample t-test between the sqlite and SQL index backends"
   ]
  },
  {
   "cell_type": "code",
   "execution_count": 19,
   "id": "59879ad0",
   "metadata": {},
   "outputs": [
    {
     "data": {
      "text/html": [
       "<div>\n",
       "<style scoped>\n",
       "    .dataframe tbody tr th:only-of-type {\n",
       "        vertical-align: middle;\n",
       "    }\n",
       "\n",
       "    .dataframe tbody tr th {\n",
       "        vertical-align: top;\n",
       "    }\n",
       "\n",
       "    .dataframe thead th {\n",
       "        text-align: right;\n",
       "    }\n",
       "</style>\n",
       "<table border=\"1\" class=\"dataframe\">\n",
       "  <thead>\n",
       "    <tr style=\"text-align: right;\">\n",
       "      <th></th>\n",
       "      <th>T</th>\n",
       "      <th>dof</th>\n",
       "      <th>alternative</th>\n",
       "      <th>p-val</th>\n",
       "      <th>CI95%</th>\n",
       "      <th>cohen-d</th>\n",
       "      <th>BF10</th>\n",
       "      <th>power</th>\n",
       "    </tr>\n",
       "  </thead>\n",
       "  <tbody>\n",
       "    <tr>\n",
       "      <th>T-test</th>\n",
       "      <td>97.345253</td>\n",
       "      <td>8</td>\n",
       "      <td>two-sided</td>\n",
       "      <td>1.384779e-13</td>\n",
       "      <td>[8.26, 8.66]</td>\n",
       "      <td>61.566544</td>\n",
       "      <td>7.318e+09</td>\n",
       "      <td>1.0</td>\n",
       "    </tr>\n",
       "  </tbody>\n",
       "</table>\n",
       "</div>"
      ],
      "text/plain": [
       "                T  dof alternative         p-val         CI95%    cohen-d  \\\n",
       "T-test  97.345253    8   two-sided  1.384779e-13  [8.26, 8.66]  61.566544   \n",
       "\n",
       "             BF10  power  \n",
       "T-test  7.318e+09    1.0  "
      ]
     },
     "execution_count": 19,
     "metadata": {},
     "output_type": "execute_result"
    }
   ],
   "source": [
    "pg.ttest(con_sqlite_times, con_sql_times)"
   ]
  },
  {
   "cell_type": "markdown",
   "id": "c5c9830c",
   "metadata": {},
   "source": [
    "Since we have a p-value of less than 0.05, we can deduce that there is a statistically significant difference in concurrent upload\n",
    "speeds between the sqlite and SQL index backends. The SQL backend has a faster upload time for 1000 baskets using 5 concurrent processes"
   ]
  }
 ],
 "metadata": {
  "kernelspec": {
   "display_name": "base",
   "language": "python",
   "name": "python3"
  },
  "language_info": {
   "codemirror_mode": {
    "name": "ipython",
    "version": 3
   },
   "file_extension": ".py",
   "mimetype": "text/x-python",
   "name": "python",
   "nbconvert_exporter": "python",
   "pygments_lexer": "ipython3",
   "version": "3.13.2"
  }
 },
 "nbformat": 4,
 "nbformat_minor": 5
}
