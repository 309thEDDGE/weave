{
 "cells": [
  {
   "cell_type": "code",
   "execution_count": 1,
   "id": "849e21e9",
   "metadata": {},
   "outputs": [],
   "source": [
    "import shutil\n",
    "import time\n",
    "\n",
    "import matplotlib.pyplot as plt\n",
    "import pingouin as pg\n",
    "import numpy as np\n",
    "import pandas as pd\n",
    "from fsspec.implementations.local import LocalFileSystem\n",
    "from dask import delayed\n",
    "from dask.distributed import Client, LocalCluster\n",
    "\n",
    "from dummy_baskets import generate_dummy_baskets, run_index_basket_upload_test\n",
    "from weave.index.index_pandas import IndexPandas\n",
    "from weave.index.index_sqlite import IndexSQLite\n",
    "from weave.index.index_sql import IndexSQL\n",
    "from weave import Pantry"
   ]
  },
  {
   "cell_type": "markdown",
   "id": "892ee39b",
   "metadata": {},
   "source": [
    "In this notebook we will run 5 upload tests on each index backend (IndexPandas, IndexSQLite, IndexSQL) and compare the average upload time. We will be using 1000 baskets, 10 upload files, 1 MB file size, and 5 basket types as the parameters in each test. Statistical tests will be performed across the three different index backends to determine if there is a statistical significant difference in upload time between all the index backends."
   ]
  },
  {
   "cell_type": "markdown",
   "id": "4cd01347",
   "metadata": {},
   "source": [
    "Index Pandas Tests"
   ]
  },
  {
   "cell_type": "code",
   "execution_count": 2,
   "id": "e01c9ab5",
   "metadata": {},
   "outputs": [
    {
     "name": "stdout",
     "output_type": "stream",
     "text": [
      "Pandas index upload times: [234.29854083061218, 171.34582233428955, 217.3185567855835, 170.69060587882996, 177.7809898853302]\n",
      "Average pandas index upload time for 5 different tests: 194.28690314292908\n"
     ]
    }
   ],
   "source": [
    "pandas_times = []\n",
    "baskets = generate_dummy_baskets(basket_count=1000, file_count=10, file_size_mb=1, file_path=\"dummy_txt\", num_basket_types=5)\n",
    "\n",
    "for _ in range(5):\n",
    "    pantry_pandas = Pantry(IndexPandas, pantry_path=\"dummy_pantry\", file_system=LocalFileSystem())\n",
    "    test_time = run_index_basket_upload_test(basket_list=baskets, pantry=pantry_pandas)\n",
    "    pandas_times.append(test_time)\n",
    "    shutil.rmtree(\"dummy_pantry\")\n",
    "\n",
    "shutil.rmtree(\"dummy_txt\")\n",
    "\n",
    "print(f\"Pandas index upload times: {pandas_times}\")\n",
    "print(f\"Average pandas index upload time for 5 different tests: {np.mean(pandas_times)}\")"
   ]
  },
  {
   "cell_type": "markdown",
   "id": "902299cb",
   "metadata": {},
   "source": [
    "Index SQLite Tests"
   ]
  },
  {
   "cell_type": "code",
   "execution_count": 3,
   "id": "79e67211",
   "metadata": {},
   "outputs": [
    {
     "name": "stdout",
     "output_type": "stream",
     "text": [
      "SQLite index upload times: [40.87694597244263, 48.26594281196594, 47.39451742172241, 40.881415367126465, 46.34488844871521]\n",
      "Average SQLite index upload time for 5 different tests: 44.752742004394534\n"
     ]
    }
   ],
   "source": [
    "sqlite_times = []\n",
    "baskets = generate_dummy_baskets(basket_count=1000, file_count=10, file_size_mb=1, file_path=\"dummy_txt\", num_basket_types=5)\n",
    "\n",
    "for _ in range(5):\n",
    "    pantry_sqlite = Pantry(IndexSQLite, pantry_path=\"dummy_pantry\", file_system=LocalFileSystem())\n",
    "    test_time = run_index_basket_upload_test(basket_list=baskets, pantry=pantry_sqlite)\n",
    "    sqlite_times.append(test_time)\n",
    "    shutil.rmtree(\"dummy_pantry\")\n",
    "    pantry_sqlite.index.drop_index()\n",
    "\n",
    "shutil.rmtree(\"dummy_txt\")\n",
    "\n",
    "print(f\"SQLite index upload times: {sqlite_times}\")\n",
    "print(f\"Average SQLite index upload time for 5 different tests: {np.mean(sqlite_times)}\")"
   ]
  },
  {
   "cell_type": "markdown",
   "id": "38ef3321",
   "metadata": {},
   "source": [
    "Index SQL Tests"
   ]
  },
  {
   "cell_type": "code",
   "execution_count": 4,
   "id": "ca29f03b",
   "metadata": {},
   "outputs": [
    {
     "name": "stdout",
     "output_type": "stream",
     "text": [
      "SQL index upload times: [32.89219522476196, 33.37891125679016, 33.26019644737244, 33.141807079315186, 33.64866876602173]\n",
      "Average SQL index upload time for 5 different tests: 33.264355754852296\n"
     ]
    }
   ],
   "source": [
    "sql_times = []\n",
    "baskets = generate_dummy_baskets(basket_count=1000, file_count=10, file_size_mb=1, file_path=\"dummy_txt\", num_basket_types=5)\n",
    "\n",
    "for _ in range(5):\n",
    "    pantry_sql = Pantry(IndexSQL, pantry_path=\"dummy_pantry\", file_system=LocalFileSystem())\n",
    "    test_time = run_index_basket_upload_test(basket_list=baskets, pantry=pantry_sql)\n",
    "    sql_times.append(test_time)\n",
    "    shutil.rmtree(\"dummy_pantry\")\n",
    "    pantry_sql.index.drop_index()\n",
    "\n",
    "shutil.rmtree(\"dummy_txt\")\n",
    "\n",
    "print(f\"SQL index upload times: {sql_times}\")\n",
    "print(f\"Average SQL index upload time for 5 different tests: {np.mean(sql_times)}\")"
   ]
  },
  {
   "cell_type": "markdown",
   "id": "3853d871",
   "metadata": {},
   "source": [
    "Performance Difference Between all 3 Index Backends"
   ]
  },
  {
   "cell_type": "code",
   "execution_count": 5,
   "id": "046dff48",
   "metadata": {},
   "outputs": [
    {
     "data": {
      "text/html": [
       "<div>\n",
       "<style scoped>\n",
       "    .dataframe tbody tr th:only-of-type {\n",
       "        vertical-align: middle;\n",
       "    }\n",
       "\n",
       "    .dataframe tbody tr th {\n",
       "        vertical-align: top;\n",
       "    }\n",
       "\n",
       "    .dataframe thead th {\n",
       "        text-align: right;\n",
       "    }\n",
       "</style>\n",
       "<table border=\"1\" class=\"dataframe\">\n",
       "  <thead>\n",
       "    <tr style=\"text-align: right;\">\n",
       "      <th></th>\n",
       "      <th>Pandas Index</th>\n",
       "      <th>SQLite Index</th>\n",
       "      <th>SQL Index</th>\n",
       "    </tr>\n",
       "  </thead>\n",
       "  <tbody>\n",
       "    <tr>\n",
       "      <th>0</th>\n",
       "      <td>234.298541</td>\n",
       "      <td>40.876946</td>\n",
       "      <td>32.892195</td>\n",
       "    </tr>\n",
       "    <tr>\n",
       "      <th>1</th>\n",
       "      <td>171.345822</td>\n",
       "      <td>48.265943</td>\n",
       "      <td>33.378911</td>\n",
       "    </tr>\n",
       "    <tr>\n",
       "      <th>2</th>\n",
       "      <td>217.318557</td>\n",
       "      <td>47.394517</td>\n",
       "      <td>33.260196</td>\n",
       "    </tr>\n",
       "    <tr>\n",
       "      <th>3</th>\n",
       "      <td>170.690606</td>\n",
       "      <td>40.881415</td>\n",
       "      <td>33.141807</td>\n",
       "    </tr>\n",
       "    <tr>\n",
       "      <th>4</th>\n",
       "      <td>177.780990</td>\n",
       "      <td>46.344888</td>\n",
       "      <td>33.648669</td>\n",
       "    </tr>\n",
       "  </tbody>\n",
       "</table>\n",
       "</div>"
      ],
      "text/plain": [
       "   Pandas Index  SQLite Index  SQL Index\n",
       "0    234.298541     40.876946  32.892195\n",
       "1    171.345822     48.265943  33.378911\n",
       "2    217.318557     47.394517  33.260196\n",
       "3    170.690606     40.881415  33.141807\n",
       "4    177.780990     46.344888  33.648669"
      ]
     },
     "execution_count": 5,
     "metadata": {},
     "output_type": "execute_result"
    }
   ],
   "source": [
    "index_times_df = pd.DataFrame({\n",
    "    \"Pandas Index\": pandas_times,\n",
    "    \"SQLite Index\": sqlite_times,\n",
    "    \"SQL Index\": sql_times\n",
    "})\n",
    "index_times_df"
   ]
  },
  {
   "cell_type": "code",
   "execution_count": 6,
   "id": "0afb9e5d",
   "metadata": {},
   "outputs": [
    {
     "data": {
      "image/png": "[encoded data removed]",
      "text/plain": [
       "<Figure size 640x480 with 1 Axes>"
      ]
     },
     "metadata": {},
     "output_type": "display_data"
    }
   ],
   "source": [
    "categories = [\"Pandas Index\", \"SQLite Index\", \"SQL Index\"]\n",
    "values = [np.mean(pandas_times), np.mean(sqlite_times), np.mean(sql_times)]\n",
    "\n",
    "plt.bar(categories, values, color='skyblue', edgecolor='black')\n",
    "\n",
    "plt.xlabel('Type of Index Backend')\n",
    "plt.ylabel('Seconds')\n",
    "plt.title('Average Upload Time for Five Tests')\n",
    "\n",
    "plt.show()"
   ]
  },
  {
   "cell_type": "code",
   "execution_count": 7,
   "id": "edb01967",
   "metadata": {},
   "outputs": [],
   "source": [
    "all_times = pandas_times + sqlite_times + sql_times\n",
    "\n",
    "times_df = pd.DataFrame({\n",
    "    \"Index\": [\"Pandas\"] * 5 + [\"SQLite\"] * 5 + [\"SQL\"] * 5,\n",
    "    \"Upload_Time\": all_times\n",
    "})"
   ]
  },
  {
   "cell_type": "code",
   "execution_count": 8,
   "id": "8500cbef",
   "metadata": {},
   "outputs": [
    {
     "data": {
      "image/png": "[encoded data removed]",
      "text/plain": [
       "<Figure size 640x480 with 1 Axes>"
      ]
     },
     "metadata": {},
     "output_type": "display_data"
    }
   ],
   "source": [
    "color_map = {\"Pandas\": \"blue\", \"SQLite\": \"green\", \"SQL\": \"purple\"}\n",
    "colors = times_df['Index'].map(color_map)\n",
    "\n",
    "plt.scatter(times_df['Index'], times_df['Upload_Time'], c=colors)\n",
    "\n",
    "plt.xlabel('Type of Index Backend')\n",
    "plt.ylabel('Seconds')\n",
    "plt.title('Upload Times for Five Tests')\n",
    "\n",
    "plt.show()"
   ]
  },
  {
   "cell_type": "markdown",
   "id": "d0199fe6",
   "metadata": {},
   "source": [
    "ANOVA Test Between the Three Index Backends"
   ]
  },
  {
   "cell_type": "code",
   "execution_count": 9,
   "id": "0738892d",
   "metadata": {},
   "outputs": [
    {
     "data": {
      "text/html": [
       "<div>\n",
       "<style scoped>\n",
       "    .dataframe tbody tr th:only-of-type {\n",
       "        vertical-align: middle;\n",
       "    }\n",
       "\n",
       "    .dataframe tbody tr th {\n",
       "        vertical-align: top;\n",
       "    }\n",
       "\n",
       "    .dataframe thead th {\n",
       "        text-align: right;\n",
       "    }\n",
       "</style>\n",
       "<table border=\"1\" class=\"dataframe\">\n",
       "  <thead>\n",
       "    <tr style=\"text-align: right;\">\n",
       "      <th></th>\n",
       "      <th>Source</th>\n",
       "      <th>ddof1</th>\n",
       "      <th>ddof2</th>\n",
       "      <th>F</th>\n",
       "      <th>p-unc</th>\n",
       "      <th>np2</th>\n",
       "    </tr>\n",
       "  </thead>\n",
       "  <tbody>\n",
       "    <tr>\n",
       "      <th>0</th>\n",
       "      <td>Index</td>\n",
       "      <td>2</td>\n",
       "      <td>12</td>\n",
       "      <td>136.816771</td>\n",
       "      <td>5.498348e-09</td>\n",
       "      <td>0.957988</td>\n",
       "    </tr>\n",
       "  </tbody>\n",
       "</table>\n",
       "</div>"
      ],
      "text/plain": [
       "  Source  ddof1  ddof2           F         p-unc       np2\n",
       "0  Index      2     12  136.816771  5.498348e-09  0.957988"
      ]
     },
     "execution_count": 9,
     "metadata": {},
     "output_type": "execute_result"
    }
   ],
   "source": [
    "pg.anova(data=times_df, dv='Upload_Time', between='Index')"
   ]
  },
  {
   "cell_type": "markdown",
   "id": "80fa73a2",
   "metadata": {},
   "source": [
    "Since we have a p-value of less than 0.05 we can say that the average upload times between index backends are statistically different.\n",
    "Now we can perform a post-hoc analysis to determine which specific index upload times are statistically different between each other."
   ]
  },
  {
   "cell_type": "code",
   "execution_count": 10,
   "id": "acf6e86e",
   "metadata": {},
   "outputs": [
    {
     "data": {
      "text/html": [
       "<div>\n",
       "<style scoped>\n",
       "    .dataframe tbody tr th:only-of-type {\n",
       "        vertical-align: middle;\n",
       "    }\n",
       "\n",
       "    .dataframe tbody tr th {\n",
       "        vertical-align: top;\n",
       "    }\n",
       "\n",
       "    .dataframe thead th {\n",
       "        text-align: right;\n",
       "    }\n",
       "</style>\n",
       "<table border=\"1\" class=\"dataframe\">\n",
       "  <thead>\n",
       "    <tr style=\"text-align: right;\">\n",
       "      <th></th>\n",
       "      <th>A</th>\n",
       "      <th>B</th>\n",
       "      <th>mean(A)</th>\n",
       "      <th>mean(B)</th>\n",
       "      <th>diff</th>\n",
       "      <th>se</th>\n",
       "      <th>T</th>\n",
       "      <th>p-tukey</th>\n",
       "      <th>hedges</th>\n",
       "    </tr>\n",
       "  </thead>\n",
       "  <tbody>\n",
       "    <tr>\n",
       "      <th>0</th>\n",
       "      <td>Pandas</td>\n",
       "      <td>SQL</td>\n",
       "      <td>194.287</td>\n",
       "      <td>33.264</td>\n",
       "      <td>161.023</td>\n",
       "      <td>10.861</td>\n",
       "      <td>14.825</td>\n",
       "      <td>0.000</td>\n",
       "      <td>6.966</td>\n",
       "    </tr>\n",
       "    <tr>\n",
       "      <th>1</th>\n",
       "      <td>Pandas</td>\n",
       "      <td>SQLite</td>\n",
       "      <td>194.287</td>\n",
       "      <td>44.753</td>\n",
       "      <td>149.534</td>\n",
       "      <td>10.861</td>\n",
       "      <td>13.768</td>\n",
       "      <td>0.000</td>\n",
       "      <td>6.422</td>\n",
       "    </tr>\n",
       "    <tr>\n",
       "      <th>2</th>\n",
       "      <td>SQL</td>\n",
       "      <td>SQLite</td>\n",
       "      <td>33.264</td>\n",
       "      <td>44.753</td>\n",
       "      <td>-11.488</td>\n",
       "      <td>10.861</td>\n",
       "      <td>-1.058</td>\n",
       "      <td>0.557</td>\n",
       "      <td>-4.063</td>\n",
       "    </tr>\n",
       "  </tbody>\n",
       "</table>\n",
       "</div>"
      ],
      "text/plain": [
       "        A       B  mean(A)  mean(B)     diff      se       T  p-tukey  hedges\n",
       "0  Pandas     SQL  194.287   33.264  161.023  10.861  14.825    0.000   6.966\n",
       "1  Pandas  SQLite  194.287   44.753  149.534  10.861  13.768    0.000   6.422\n",
       "2     SQL  SQLite   33.264   44.753  -11.488  10.861  -1.058    0.557  -4.063"
      ]
     },
     "execution_count": 10,
     "metadata": {},
     "output_type": "execute_result"
    }
   ],
   "source": [
    "times_df.pairwise_tukey(dv='Upload_Time', between='Index').round(3)"
   ]
  },
  {
   "cell_type": "markdown",
   "id": "1581029b",
   "metadata": {},
   "source": [
    "Since each p-value in the post-hoc analysis (besides the difference between SQL and SQLite) is less than 0.05, we can determine that there is a statistically significant difference between the Pandas and SQL indexes, and the Pandas and SQLite indexes.\n",
    "\n",
    "Indexes Ranked by Upload Time:\n",
    "1. SQL\n",
    "2. SQLite\n",
    "3. Pandas"
   ]
  },
  {
   "cell_type": "markdown",
   "id": "9c8ebfe4",
   "metadata": {},
   "source": [
    "***We are now going to run all of the same tests using 5 concurrent processes instead of one. However, we will only be testing***\n",
    "***with SQLite and SQL as the Pandas Index does not work with concurrency***"
   ]
  },
  {
   "cell_type": "code",
   "execution_count": 11,
   "id": "1d8f6573",
   "metadata": {},
   "outputs": [
    {
     "name": "stderr",
     "output_type": "stream",
     "text": [
      "c:\\Users\\carso\\miniconda3\\Lib\\site-packages\\distributed\\node.py:187: UserWarning: Port 8787 is already in use.\n",
      "Perhaps you already have a cluster running?\n",
      "Hosting the HTTP server on port 54059 instead\n",
      "  warnings.warn(\n"
     ]
    }
   ],
   "source": [
    "# Set up a local cluster and client with 5 concurrent processes\n",
    "cluster = LocalCluster(n_workers=5, threads_per_worker=1, processes=True)\n",
    "client = Client(cluster)"
   ]
  },
  {
   "cell_type": "markdown",
   "id": "0e92b421",
   "metadata": {},
   "source": [
    "**Index SQLite Concurrency Tests**"
   ]
  },
  {
   "cell_type": "code",
   "execution_count": 12,
   "id": "96dad6cd",
   "metadata": {},
   "outputs": [
    {
     "name": "stdout",
     "output_type": "stream",
     "text": [
      "SQLite index upload times with 5 concurrent processes: [18.235474824905396, 19.98452115058899, 17.207655906677246, 17.270632028579712, 17.626710414886475]\n",
      "Average sqlite index upload time for 5 different tests: 18.064998865127563\n"
     ]
    }
   ],
   "source": [
    "con_sqlite_times = []\n",
    "baskets = generate_dummy_baskets(basket_count=1000, file_count=10, file_size_mb=1, file_path=\"dummy_txt\", num_basket_types=5)\n",
    "\n",
    "for _ in range(5):\n",
    "    pantry = Pantry(IndexSQLite, pantry_path=\"dummy_pantry\", file_system=LocalFileSystem())\n",
    "    \n",
    "    # Create a delayed function to upload all of our chunks\n",
    "    @delayed\n",
    "    def upload_chunk(chunk):\n",
    "        pantry = Pantry(IndexSQLite, pantry_path=\"dummy_pantry\", file_system=LocalFileSystem())\n",
    "        run_index_basket_upload_test(chunk, pantry)\n",
    "\n",
    "    # Create 5 equal chunks each with 200 baskets\n",
    "    chunks = [baskets[i:i+200] for i in range(0, len(baskets), 200)]\n",
    "\n",
    "    # Upload all chunks in parallel\n",
    "    delayed_uploads = [upload_chunk(chunk) for chunk in chunks]\n",
    "\n",
    "    start_time = time.time()\n",
    "    results = client.compute(delayed_uploads, sync=True)\n",
    "    end_time = time.time()\n",
    "    test_time = end_time - start_time\n",
    "\n",
    "    con_sqlite_times.append(test_time)\n",
    "    shutil.rmtree(\"dummy_pantry\")\n",
    "    pantry.index.drop_index()\n",
    "\n",
    "shutil.rmtree(\"dummy_txt\")\n",
    "\n",
    "print(f\"SQLite index upload times with 5 concurrent processes: {con_sqlite_times}\")\n",
    "print(f\"Average sqlite index upload time for 5 different tests: {np.mean(con_sqlite_times)}\")"
   ]
  },
  {
   "cell_type": "markdown",
   "id": "82c9b086",
   "metadata": {},
   "source": [
    "**Index SQL Concurrency Tests**"
   ]
  },
  {
   "cell_type": "code",
   "execution_count": 13,
   "id": "527f1ad1",
   "metadata": {},
   "outputs": [
    {
     "name": "stdout",
     "output_type": "stream",
     "text": [
      "SQL index upload times with 5 concurrent processes: [9.348560810089111, 9.576001167297363, 9.396291017532349, 9.313553094863892, 9.487735986709595]\n",
      "Average SQL index upload time for 5 different tests: 9.424428415298461\n"
     ]
    }
   ],
   "source": [
    "con_sql_times = []\n",
    "baskets = generate_dummy_baskets(basket_count=1000, file_count=10, file_size_mb=1, file_path=\"dummy_txt\", num_basket_types=5)\n",
    "\n",
    "for _ in range(5):\n",
    "    pantry = Pantry(IndexSQL, pantry_path=\"dummy_pantry\", file_system=LocalFileSystem())\n",
    "    \n",
    "    # Create a delayed function to upload all of our chunks\n",
    "    @delayed\n",
    "    def upload_chunk(chunk):\n",
    "        pantry = Pantry(IndexSQL, pantry_path=\"dummy_pantry\", file_system=LocalFileSystem())\n",
    "        run_index_basket_upload_test(chunk, pantry)\n",
    "\n",
    "    # Create 5 equal chunks each with 200 baskets\n",
    "    chunks = [baskets[i:i+200] for i in range(0, len(baskets), 200)]\n",
    "\n",
    "    # Upload all chunks in parallel\n",
    "    delayed_uploads = [upload_chunk(chunk) for chunk in chunks]\n",
    "\n",
    "    start_time = time.time()\n",
    "    results = client.compute(delayed_uploads, sync=True)\n",
    "    end_time = time.time()\n",
    "    test_time = end_time - start_time\n",
    "\n",
    "    con_sql_times.append(test_time)\n",
    "    shutil.rmtree(\"dummy_pantry\")\n",
    "    pantry.index.drop_index()\n",
    "\n",
    "shutil.rmtree(\"dummy_txt\")\n",
    "\n",
    "print(f\"SQL index upload times with 5 concurrent processes: {con_sql_times}\")\n",
    "print(f\"Average SQL index upload time for 5 different tests: {np.mean(con_sql_times)}\")"
   ]
  },
  {
   "cell_type": "markdown",
   "id": "fdc217ad",
   "metadata": {},
   "source": [
    "Concurrency performance difference between SQLite and SQL indexes"
   ]
  },
  {
   "cell_type": "code",
   "execution_count": 14,
   "id": "b83723d5",
   "metadata": {},
   "outputs": [
    {
     "data": {
      "text/html": [
       "<div>\n",
       "<style scoped>\n",
       "    .dataframe tbody tr th:only-of-type {\n",
       "        vertical-align: middle;\n",
       "    }\n",
       "\n",
       "    .dataframe tbody tr th {\n",
       "        vertical-align: top;\n",
       "    }\n",
       "\n",
       "    .dataframe thead th {\n",
       "        text-align: right;\n",
       "    }\n",
       "</style>\n",
       "<table border=\"1\" class=\"dataframe\">\n",
       "  <thead>\n",
       "    <tr style=\"text-align: right;\">\n",
       "      <th></th>\n",
       "      <th>SQLite Index Concurrency</th>\n",
       "      <th>SQL Index Concurrency</th>\n",
       "    </tr>\n",
       "  </thead>\n",
       "  <tbody>\n",
       "    <tr>\n",
       "      <th>0</th>\n",
       "      <td>18.235475</td>\n",
       "      <td>9.348561</td>\n",
       "    </tr>\n",
       "    <tr>\n",
       "      <th>1</th>\n",
       "      <td>19.984521</td>\n",
       "      <td>9.576001</td>\n",
       "    </tr>\n",
       "    <tr>\n",
       "      <th>2</th>\n",
       "      <td>17.207656</td>\n",
       "      <td>9.396291</td>\n",
       "    </tr>\n",
       "    <tr>\n",
       "      <th>3</th>\n",
       "      <td>17.270632</td>\n",
       "      <td>9.313553</td>\n",
       "    </tr>\n",
       "    <tr>\n",
       "      <th>4</th>\n",
       "      <td>17.626710</td>\n",
       "      <td>9.487736</td>\n",
       "    </tr>\n",
       "  </tbody>\n",
       "</table>\n",
       "</div>"
      ],
      "text/plain": [
       "   SQLite Index Concurrency  SQL Index Concurrency\n",
       "0                 18.235475               9.348561\n",
       "1                 19.984521               9.576001\n",
       "2                 17.207656               9.396291\n",
       "3                 17.270632               9.313553\n",
       "4                 17.626710               9.487736"
      ]
     },
     "execution_count": 14,
     "metadata": {},
     "output_type": "execute_result"
    }
   ],
   "source": [
    "con_index_times_df = pd.DataFrame({\n",
    "    \"SQLite Index Concurrency\": con_sqlite_times,\n",
    "    \"SQL Index Concurrency\": con_sql_times\n",
    "})\n",
    "con_index_times_df"
   ]
  },
  {
   "cell_type": "code",
   "execution_count": 15,
   "id": "5ef9054a",
   "metadata": {},
   "outputs": [
    {
     "data": {
      "image/png": "[encoded data removed]",
      "text/plain": [
       "<Figure size 640x480 with 1 Axes>"
      ]
     },
     "metadata": {},
     "output_type": "display_data"
    }
   ],
   "source": [
    "categories = [\"SQLite Index\", \"SQL Index\"]\n",
    "values = [np.mean(con_sqlite_times), np.mean(con_sql_times)]\n",
    "\n",
    "plt.bar(categories, values, color='skyblue', edgecolor='black')\n",
    "\n",
    "plt.xlabel('Type of Index Backend')\n",
    "plt.ylabel('Seconds')\n",
    "plt.title('Average Upload Time for Five Tests Using 5 Concurrent Processes')\n",
    "\n",
    "plt.show()"
   ]
  },
  {
   "cell_type": "code",
   "execution_count": 16,
   "id": "a64ebc0e",
   "metadata": {},
   "outputs": [],
   "source": [
    "con_all_times = con_sqlite_times + con_sql_times\n",
    "\n",
    "con_times_df = pd.DataFrame({\n",
    "    \"Index\": [\"SQLite\"] * 5 + [\"SQL\"] * 5,\n",
    "    \"Upload_Time\": con_all_times\n",
    "})"
   ]
  },
  {
   "cell_type": "code",
   "execution_count": 17,
   "id": "2162fd5c",
   "metadata": {},
   "outputs": [
    {
     "data": {
      "image/png": "[encoded data removed]",
      "text/plain": [
       "<Figure size 640x480 with 1 Axes>"
      ]
     },
     "metadata": {},
     "output_type": "display_data"
    }
   ],
   "source": [
    "color_map = {\"SQLite\": \"green\", \"SQL\": \"purple\"}\n",
    "colors = con_times_df['Index'].map(color_map)\n",
    "\n",
    "plt.scatter(con_times_df['Index'], con_times_df['Upload_Time'], c=colors)\n",
    "\n",
    "plt.xlabel('Type of Index Backend')\n",
    "plt.ylabel('Seconds')\n",
    "plt.title('Upload Times for Five Tests Using 5 Concurrent Processes')\n",
    "\n",
    "plt.show()"
   ]
  },
  {
   "cell_type": "markdown",
   "id": "c61ec51c",
   "metadata": {},
   "source": [
    "2 sample t-test between the sqlite and SQL index backends"
   ]
  },
  {
   "cell_type": "code",
   "execution_count": 18,
   "id": "59879ad0",
   "metadata": {},
   "outputs": [
    {
     "data": {
      "text/html": [
       "<div>\n",
       "<style scoped>\n",
       "    .dataframe tbody tr th:only-of-type {\n",
       "        vertical-align: middle;\n",
       "    }\n",
       "\n",
       "    .dataframe tbody tr th {\n",
       "        vertical-align: top;\n",
       "    }\n",
       "\n",
       "    .dataframe thead th {\n",
       "        text-align: right;\n",
       "    }\n",
       "</style>\n",
       "<table border=\"1\" class=\"dataframe\">\n",
       "  <thead>\n",
       "    <tr style=\"text-align: right;\">\n",
       "      <th></th>\n",
       "      <th>T</th>\n",
       "      <th>dof</th>\n",
       "      <th>alternative</th>\n",
       "      <th>p-val</th>\n",
       "      <th>CI95%</th>\n",
       "      <th>cohen-d</th>\n",
       "      <th>BF10</th>\n",
       "      <th>power</th>\n",
       "    </tr>\n",
       "  </thead>\n",
       "  <tbody>\n",
       "    <tr>\n",
       "      <th>T-test</th>\n",
       "      <td>16.757122</td>\n",
       "      <td>8</td>\n",
       "      <td>two-sided</td>\n",
       "      <td>1.628141e-07</td>\n",
       "      <td>[7.45, 9.83]</td>\n",
       "      <td>10.598135</td>\n",
       "      <td>3.742e+04</td>\n",
       "      <td>1.0</td>\n",
       "    </tr>\n",
       "  </tbody>\n",
       "</table>\n",
       "</div>"
      ],
      "text/plain": [
       "                T  dof alternative         p-val         CI95%    cohen-d  \\\n",
       "T-test  16.757122    8   two-sided  1.628141e-07  [7.45, 9.83]  10.598135   \n",
       "\n",
       "             BF10  power  \n",
       "T-test  3.742e+04    1.0  "
      ]
     },
     "execution_count": 18,
     "metadata": {},
     "output_type": "execute_result"
    }
   ],
   "source": [
    "pg.ttest(con_sqlite_times, con_sql_times)"
   ]
  },
  {
   "cell_type": "markdown",
   "id": "c5c9830c",
   "metadata": {},
   "source": [
    "Since we have a p-value of less than 0.05, we can deduce that there is a statistically significant difference in concurrent upload\n",
    "speeds between the sqlite and SQL index backends. The SQL backend has a faster upload time for 1000 baskets using 5 concurrent processes"
   ]
  }
 ],
 "metadata": {
  "kernelspec": {
   "display_name": "base",
   "language": "python",
   "name": "python3"
  },
  "language_info": {
   "codemirror_mode": {
    "name": "ipython",
    "version": 3
   },
   "file_extension": ".py",
   "mimetype": "text/x-python",
   "name": "python",
   "nbconvert_exporter": "python",
   "pygments_lexer": "ipython3",
   "version": "3.13.2"
  }
 },
 "nbformat": 4,
 "nbformat_minor": 5
}
