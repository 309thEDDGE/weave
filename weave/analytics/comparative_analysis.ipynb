{
 "cells": [
  {
   "cell_type": "code",
   "execution_count": 1,
   "id": "849e21e9",
   "metadata": {},
   "outputs": [],
   "source": [
    "import shutil\n",
    "\n",
    "import matplotlib.pyplot as plt\n",
    "import pingouin as pg\n",
    "import numpy as np\n",
    "import pandas as pd\n",
    "from fsspec.implementations.local import LocalFileSystem\n",
    "\n",
    "from dummy_baskets import generate_dummy_baskets, run_index_basket_upload_test\n",
    "from weave.index.index_pandas import IndexPandas\n",
    "from weave.index.index_sqlite import IndexSQLite\n",
    "from weave.index.index_sql import IndexSQL\n",
    "from weave import Pantry"
   ]
  },
  {
   "cell_type": "markdown",
   "id": "892ee39b",
   "metadata": {},
   "source": [
    "In this notebok we will run 5 upload tests on each index backend (IndexPandas, IndexSQLite, IndexSQL) and compare the average upload time. We will be using 1000 baskets, 10 upload files, 1 MB file size, and 5 basket types as the parameters in each test. Statistical tests will be performed across the three different index backends to determine if there is a statistical significant difference in upload time between all the index backends."
   ]
  },
  {
   "cell_type": "markdown",
   "id": "4cd01347",
   "metadata": {},
   "source": [
    "Index Pandas Tests"
   ]
  },
  {
   "cell_type": "code",
   "execution_count": 2,
   "id": "e01c9ab5",
   "metadata": {},
   "outputs": [
    {
     "name": "stdout",
     "output_type": "stream",
     "text": [
      "Pandas index upload times: [175.7241928577423, 166.37030243873596, 178.7772114276886, 174.15989565849304, 173.84066104888916]\n",
      "Average pandas index upload time for 5 different tests: 173.77445268630981\n"
     ]
    }
   ],
   "source": [
    "pandas_times = []\n",
    "baskets = generate_dummy_baskets(basket_count=1000, file_count=10, file_size_mb=1, file_path=\"dummy_txt\", num_basket_types=5)\n",
    "\n",
    "for _ in range(5):\n",
    "    pantry_pandas = Pantry(IndexPandas, pantry_path=\"dummy_pantry\", file_system=LocalFileSystem())\n",
    "    time = run_index_basket_upload_test(basket_list=baskets, pantry=pantry_pandas)\n",
    "    pandas_times.append(time)\n",
    "    shutil.rmtree(\"dummy_pantry\")\n",
    "\n",
    "shutil.rmtree(\"dummy_txt\")\n",
    "\n",
    "print(f\"Pandas index upload times: {pandas_times}\")\n",
    "print(f\"Average pandas index upload time for 5 different tests: {np.mean(pandas_times)}\")"
   ]
  },
  {
   "cell_type": "markdown",
   "id": "902299cb",
   "metadata": {},
   "source": [
    "Index SQLite Tests"
   ]
  },
  {
   "cell_type": "code",
   "execution_count": 3,
   "id": "79e67211",
   "metadata": {},
   "outputs": [
    {
     "name": "stdout",
     "output_type": "stream",
     "text": [
      "SQLite index upload times: [47.1196563243866, 46.50678610801697, 47.11011600494385, 47.36418128013611, 45.54590201377869]\n",
      "Average SQLite index upload time for 5 different tests: 46.729328346252444\n"
     ]
    }
   ],
   "source": [
    "sqlite_times = []\n",
    "baskets = generate_dummy_baskets(basket_count=1000, file_count=10, file_size_mb=1, file_path=\"dummy_txt\", num_basket_types=5)\n",
    "\n",
    "for _ in range(5):\n",
    "    pantry_sqlite = Pantry(IndexSQLite, pantry_path=\"dummy_pantry\", file_system=LocalFileSystem())\n",
    "    time = run_index_basket_upload_test(basket_list=baskets, pantry=pantry_sqlite)\n",
    "    sqlite_times.append(time)\n",
    "    shutil.rmtree(\"dummy_pantry\")\n",
    "    pantry_sqlite.index.drop_index()\n",
    "\n",
    "shutil.rmtree(\"dummy_txt\")\n",
    "\n",
    "print(f\"SQLite index upload times: {sqlite_times}\")\n",
    "print(f\"Average SQLite index upload time for 5 different tests: {np.mean(sqlite_times)}\")"
   ]
  },
  {
   "cell_type": "markdown",
   "id": "38ef3321",
   "metadata": {},
   "source": [
    "Index SQL Tests"
   ]
  },
  {
   "cell_type": "code",
   "execution_count": 4,
   "id": "ca29f03b",
   "metadata": {},
   "outputs": [
    {
     "name": "stdout",
     "output_type": "stream",
     "text": [
      "SQL index upload times: [33.44623064994812, 46.75321841239929, 44.79952788352966, 32.022818088531494, 36.288578271865845]\n",
      "Average SQL index upload time for 5 different tests: 38.662074661254884\n"
     ]
    }
   ],
   "source": [
    "sql_times = []\n",
    "baskets = generate_dummy_baskets(basket_count=1000, file_count=10, file_size_mb=1, file_path=\"dummy_txt\", num_basket_types=5)\n",
    "\n",
    "for _ in range(5):\n",
    "    pantry_sql = Pantry(IndexSQL, pantry_path=\"dummy_pantry\", file_system=LocalFileSystem())\n",
    "    time = run_index_basket_upload_test(basket_list=baskets, pantry=pantry_sql)\n",
    "    sql_times.append(time)\n",
    "    shutil.rmtree(\"dummy_pantry\")\n",
    "    pantry_sql.index.drop_index()\n",
    "\n",
    "shutil.rmtree(\"dummy_txt\")\n",
    "\n",
    "print(f\"SQL index upload times: {sql_times}\")\n",
    "print(f\"Average SQL index upload time for 5 different tests: {np.mean(sql_times)}\")"
   ]
  },
  {
   "cell_type": "markdown",
   "id": "3853d871",
   "metadata": {},
   "source": [
    "Performance Difference Between all 3 Index Backends"
   ]
  },
  {
   "cell_type": "code",
   "execution_count": 5,
   "id": "046dff48",
   "metadata": {},
   "outputs": [
    {
     "data": {
      "text/html": [
       "<div>\n",
       "<style scoped>\n",
       "    .dataframe tbody tr th:only-of-type {\n",
       "        vertical-align: middle;\n",
       "    }\n",
       "\n",
       "    .dataframe tbody tr th {\n",
       "        vertical-align: top;\n",
       "    }\n",
       "\n",
       "    .dataframe thead th {\n",
       "        text-align: right;\n",
       "    }\n",
       "</style>\n",
       "<table border=\"1\" class=\"dataframe\">\n",
       "  <thead>\n",
       "    <tr style=\"text-align: right;\">\n",
       "      <th></th>\n",
       "      <th>Pandas Index</th>\n",
       "      <th>SQLite Index</th>\n",
       "      <th>SQL Index</th>\n",
       "    </tr>\n",
       "  </thead>\n",
       "  <tbody>\n",
       "    <tr>\n",
       "      <th>0</th>\n",
       "      <td>175.724193</td>\n",
       "      <td>47.119656</td>\n",
       "      <td>33.446231</td>\n",
       "    </tr>\n",
       "    <tr>\n",
       "      <th>1</th>\n",
       "      <td>166.370302</td>\n",
       "      <td>46.506786</td>\n",
       "      <td>46.753218</td>\n",
       "    </tr>\n",
       "    <tr>\n",
       "      <th>2</th>\n",
       "      <td>178.777211</td>\n",
       "      <td>47.110116</td>\n",
       "      <td>44.799528</td>\n",
       "    </tr>\n",
       "    <tr>\n",
       "      <th>3</th>\n",
       "      <td>174.159896</td>\n",
       "      <td>47.364181</td>\n",
       "      <td>32.022818</td>\n",
       "    </tr>\n",
       "    <tr>\n",
       "      <th>4</th>\n",
       "      <td>173.840661</td>\n",
       "      <td>45.545902</td>\n",
       "      <td>36.288578</td>\n",
       "    </tr>\n",
       "  </tbody>\n",
       "</table>\n",
       "</div>"
      ],
      "text/plain": [
       "   Pandas Index  SQLite Index  SQL Index\n",
       "0    175.724193     47.119656  33.446231\n",
       "1    166.370302     46.506786  46.753218\n",
       "2    178.777211     47.110116  44.799528\n",
       "3    174.159896     47.364181  32.022818\n",
       "4    173.840661     45.545902  36.288578"
      ]
     },
     "execution_count": 5,
     "metadata": {},
     "output_type": "execute_result"
    }
   ],
   "source": [
    "index_times_df = pd.DataFrame({\n",
    "    \"Pandas Index\": pandas_times,\n",
    "    \"SQLite Index\": sqlite_times,\n",
    "    \"SQL Index\": sql_times\n",
    "})\n",
    "index_times_df"
   ]
  },
  {
   "cell_type": "code",
   "execution_count": 6,
   "id": "0afb9e5d",
   "metadata": {},
   "outputs": [
    {
     "data": {
      "image/png": "[encoded data removed]",
      "text/plain": [
       "<Figure size 640x480 with 1 Axes>"
      ]
     },
     "metadata": {},
     "output_type": "display_data"
    }
   ],
   "source": [
    "categories = [\"Pandas Index\", \"SQLite Index\", \"SQL Index\"]\n",
    "values = [np.mean(pandas_times), np.mean(sqlite_times), np.mean(sql_times)]\n",
    "\n",
    "plt.bar(categories, values, color='skyblue', edgecolor='black')\n",
    "\n",
    "plt.xlabel('Type of Index Backend')\n",
    "plt.ylabel('Seconds')\n",
    "plt.title('Average Upload Time for Five Tests')\n",
    "\n",
    "plt.show()"
   ]
  },
  {
   "cell_type": "code",
   "execution_count": 7,
   "id": "edb01967",
   "metadata": {},
   "outputs": [],
   "source": [
    "all_times = pandas_times + sqlite_times + sql_times\n",
    "\n",
    "times_df = pd.DataFrame({\n",
    "    \"Index\": [\"Pandas\"] * 5 + [\"SQLite\"] * 5 + [\"SQL\"] * 5,\n",
    "    \"Upload_Time\": all_times\n",
    "})"
   ]
  },
  {
   "cell_type": "code",
   "execution_count": 8,
   "id": "8500cbef",
   "metadata": {},
   "outputs": [
    {
     "data": {
      "image/png": "[encoded data removed]",
      "text/plain": [
       "<Figure size 640x480 with 1 Axes>"
      ]
     },
     "metadata": {},
     "output_type": "display_data"
    }
   ],
   "source": [
    "color_map = {\"Pandas\": \"blue\", \"SQLite\": \"green\", \"SQL\": \"purple\"}\n",
    "colors = times_df['Index'].map(color_map)\n",
    "\n",
    "plt.scatter(times_df['Index'], times_df['Upload_Time'], c=colors)\n",
    "\n",
    "plt.xlabel('Type of Index Backend')\n",
    "plt.ylabel('Seconds')\n",
    "plt.title('Upload Times for Five Tests')\n",
    "\n",
    "plt.show()"
   ]
  },
  {
   "cell_type": "markdown",
   "id": "d0199fe6",
   "metadata": {},
   "source": [
    "ANOVA Test Between the Three Index Backends"
   ]
  },
  {
   "cell_type": "code",
   "execution_count": 9,
   "id": "0738892d",
   "metadata": {},
   "outputs": [
    {
     "data": {
      "text/html": [
       "<div>\n",
       "<style scoped>\n",
       "    .dataframe tbody tr th:only-of-type {\n",
       "        vertical-align: middle;\n",
       "    }\n",
       "\n",
       "    .dataframe tbody tr th {\n",
       "        vertical-align: top;\n",
       "    }\n",
       "\n",
       "    .dataframe thead th {\n",
       "        text-align: right;\n",
       "    }\n",
       "</style>\n",
       "<table border=\"1\" class=\"dataframe\">\n",
       "  <thead>\n",
       "    <tr style=\"text-align: right;\">\n",
       "      <th></th>\n",
       "      <th>Source</th>\n",
       "      <th>ddof1</th>\n",
       "      <th>ddof2</th>\n",
       "      <th>F</th>\n",
       "      <th>p-unc</th>\n",
       "      <th>np2</th>\n",
       "    </tr>\n",
       "  </thead>\n",
       "  <tbody>\n",
       "    <tr>\n",
       "      <th>0</th>\n",
       "      <td>Index</td>\n",
       "      <td>2</td>\n",
       "      <td>12</td>\n",
       "      <td>1295.488083</td>\n",
       "      <td>9.599892e-15</td>\n",
       "      <td>0.99539</td>\n",
       "    </tr>\n",
       "  </tbody>\n",
       "</table>\n",
       "</div>"
      ],
      "text/plain": [
       "  Source  ddof1  ddof2            F         p-unc      np2\n",
       "0  Index      2     12  1295.488083  9.599892e-15  0.99539"
      ]
     },
     "execution_count": 9,
     "metadata": {},
     "output_type": "execute_result"
    }
   ],
   "source": [
    "pg.anova(data=times_df, dv='Upload_Time', between='Index')"
   ]
  },
  {
   "cell_type": "markdown",
   "id": "80fa73a2",
   "metadata": {},
   "source": [
    "Since we have a p-value of less than 0.05 we can say that the average upload times between index backends are statistically different.\n",
    "Now we can perform a post-hoc analysis to determine which specific index upload times are statistically different between each other."
   ]
  },
  {
   "cell_type": "code",
   "execution_count": 10,
   "id": "acf6e86e",
   "metadata": {},
   "outputs": [
    {
     "data": {
      "text/html": [
       "<div>\n",
       "<style scoped>\n",
       "    .dataframe tbody tr th:only-of-type {\n",
       "        vertical-align: middle;\n",
       "    }\n",
       "\n",
       "    .dataframe tbody tr th {\n",
       "        vertical-align: top;\n",
       "    }\n",
       "\n",
       "    .dataframe thead th {\n",
       "        text-align: right;\n",
       "    }\n",
       "</style>\n",
       "<table border=\"1\" class=\"dataframe\">\n",
       "  <thead>\n",
       "    <tr style=\"text-align: right;\">\n",
       "      <th></th>\n",
       "      <th>A</th>\n",
       "      <th>B</th>\n",
       "      <th>mean(A)</th>\n",
       "      <th>mean(B)</th>\n",
       "      <th>diff</th>\n",
       "      <th>se</th>\n",
       "      <th>T</th>\n",
       "      <th>p-tukey</th>\n",
       "      <th>hedges</th>\n",
       "    </tr>\n",
       "  </thead>\n",
       "  <tbody>\n",
       "    <tr>\n",
       "      <th>0</th>\n",
       "      <td>Pandas</td>\n",
       "      <td>SQL</td>\n",
       "      <td>173.774</td>\n",
       "      <td>38.662</td>\n",
       "      <td>135.112</td>\n",
       "      <td>2.978</td>\n",
       "      <td>45.374</td>\n",
       "      <td>0.000</td>\n",
       "      <td>21.250</td>\n",
       "    </tr>\n",
       "    <tr>\n",
       "      <th>1</th>\n",
       "      <td>Pandas</td>\n",
       "      <td>SQLite</td>\n",
       "      <td>173.774</td>\n",
       "      <td>46.729</td>\n",
       "      <td>127.045</td>\n",
       "      <td>2.978</td>\n",
       "      <td>42.665</td>\n",
       "      <td>0.000</td>\n",
       "      <td>35.008</td>\n",
       "    </tr>\n",
       "    <tr>\n",
       "      <th>2</th>\n",
       "      <td>SQL</td>\n",
       "      <td>SQLite</td>\n",
       "      <td>38.662</td>\n",
       "      <td>46.729</td>\n",
       "      <td>-8.067</td>\n",
       "      <td>2.978</td>\n",
       "      <td>-2.709</td>\n",
       "      <td>0.046</td>\n",
       "      <td>-1.527</td>\n",
       "    </tr>\n",
       "  </tbody>\n",
       "</table>\n",
       "</div>"
      ],
      "text/plain": [
       "        A       B  mean(A)  mean(B)     diff     se       T  p-tukey  hedges\n",
       "0  Pandas     SQL  173.774   38.662  135.112  2.978  45.374    0.000  21.250\n",
       "1  Pandas  SQLite  173.774   46.729  127.045  2.978  42.665    0.000  35.008\n",
       "2     SQL  SQLite   38.662   46.729   -8.067  2.978  -2.709    0.046  -1.527"
      ]
     },
     "execution_count": 10,
     "metadata": {},
     "output_type": "execute_result"
    }
   ],
   "source": [
    "times_df.pairwise_tukey(dv='Upload_Time', between='Index').round(3)"
   ]
  },
  {
   "cell_type": "markdown",
   "id": "1581029b",
   "metadata": {},
   "source": [
    "Since each p-value in the post-hoc analysis is less than 0.05, we can determine that there is a statistically significant difference between each index upload time.\n",
    "\n",
    "Indexes Ranked by Upload Time:\n",
    "1. SQL\n",
    "2. SQLite\n",
    "3. Pandas"
   ]
  }
 ],
 "metadata": {
  "kernelspec": {
   "display_name": "base",
   "language": "python",
   "name": "python3"
  },
  "language_info": {
   "codemirror_mode": {
    "name": "ipython",
    "version": 3
   },
   "file_extension": ".py",
   "mimetype": "text/x-python",
   "name": "python",
   "nbconvert_exporter": "python",
   "pygments_lexer": "ipython3",
   "version": "3.13.2"
  }
 },
 "nbformat": 4,
 "nbformat_minor": 5
}
