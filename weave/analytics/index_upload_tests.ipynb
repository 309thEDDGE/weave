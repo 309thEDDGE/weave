{
 "cells": [
  {
   "cell_type": "code",
   "execution_count": null,
   "id": "023244b3",
   "metadata": {},
   "outputs": [],
   "source": [
    "from dummy_baskets import generate_dummy_baskets, run_index_basket_upload_test\n",
    "from weave.index.index_pandas import IndexPandas\n",
    "from weave.index.index_sqlite import IndexSQLite\n",
    "import shutil"
   ]
  },
  {
   "cell_type": "code",
   "execution_count": 2,
   "id": "811910eb",
   "metadata": {},
   "outputs": [
    {
     "name": "stdout",
     "output_type": "stream",
     "text": [
      "Time taken to upload 100 baskets: 5.390845060348511 seconds.\n"
     ]
    }
   ],
   "source": [
    "baskets = generate_dummy_baskets(basket_count=100, file_count=15, file_size_mb=1, file_path=\"dummy_txt\")\n",
    "time = run_index_basket_upload_test(basket_list=baskets, index=IndexSQLite, pantry_path=\"dummy_pant\")"
   ]
  },
  {
   "cell_type": "code",
   "execution_count": 3,
   "id": "07346e9f",
   "metadata": {},
   "outputs": [],
   "source": [
    "shutil.rmtree(\"dummy_txt\")\n",
    "shutil.rmtree(\"dummy_pant\")"
   ]
  },
  {
   "cell_type": "code",
   "execution_count": null,
   "id": "59f0ae56",
   "metadata": {},
   "outputs": [],
   "source": []
  }
 ],
 "metadata": {
  "kernelspec": {
   "display_name": "base",
   "language": "python",
   "name": "python3"
  },
  "language_info": {
   "codemirror_mode": {
    "name": "ipython",
    "version": 3
   },
   "file_extension": ".py",
   "mimetype": "text/x-python",
   "name": "python",
   "nbconvert_exporter": "python",
   "pygments_lexer": "ipython3",
   "version": "3.13.2"
  }
 },
 "nbformat": 4,
 "nbformat_minor": 5
}
