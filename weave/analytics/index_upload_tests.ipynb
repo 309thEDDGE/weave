{
 "cells": [
  {
   "cell_type": "code",
   "execution_count": null,
   "id": "023244b3",
   "metadata": {},
   "outputs": [],
   "source": [
    "import shutil\n",
    "\n",
    "import matplotlib.pyplot as plt\n",
    "from fsspec.implementations.local import LocalFileSystem\n",
    "\n",
    "from dummy_baskets import generate_dummy_baskets, run_index_basket_upload_test\n",
    "from weave.index.index_pandas import IndexPandas\n",
    "from weave.index.index_sqlite import IndexSQLite\n",
    "from weave.index.index_sql import IndexSQL\n",
    "from weave import Pantry"
   ]
  },
  {
   "cell_type": "markdown",
   "id": "9f2177e1",
   "metadata": {},
   "source": [
    "**Pandas Index Test (1000 Baskets, 1 Upload File, 1 MB File Size, 1 Basket Type)**\n",
    "\n",
    "In these tests we will be analyzing the performance differences when more files are uploaded, files are larger, and the number of basket types are increased. This will done using the pandas index."
   ]
  },
  {
   "cell_type": "code",
   "execution_count": null,
   "id": "c428c52f",
   "metadata": {},
   "outputs": [],
   "source": [
    "pantry_pandas = Pantry(IndexPandas, pantry_path=\"dummy_pantry\", file_system=LocalFileSystem())"
   ]
  },
  {
   "cell_type": "code",
   "execution_count": null,
   "id": "811910eb",
   "metadata": {},
   "outputs": [],
   "source": [
    "baskets = generate_dummy_baskets(basket_count=1000, file_count=1, file_size_mb=1, file_path=\"dummy_txt\", num_basket_types=1)\n",
    "pandas_time1 = run_index_basket_upload_test(basket_list=baskets, pantry=pantry_pandas)\n",
    "print(f\"1000 baskets, 1 upload file, 1 mb size files, 1 basket type: {pandas_time1} seconds\")\n",
    "shutil.rmtree(\"dummy_txt\")\n",
    "shutil.rmtree(\"dummy_pantry\")"
   ]
  },
  {
   "cell_type": "code",
   "execution_count": null,
   "id": "07346e9f",
   "metadata": {},
   "outputs": [],
   "source": [
    "baskets = generate_dummy_baskets(basket_count=1000, file_count=10, file_size_mb=1, file_path=\"dummy_txt\", num_basket_types=1)\n",
    "pandas_time2 = run_index_basket_upload_test(basket_list=baskets, pantry=pantry_pandas)\n",
    "print(f\"1000 baskets, 10 upload files, 1 mb size files, 1 basket type: {pandas_time2} seconds\")\n",
    "shutil.rmtree(\"dummy_txt\")\n",
    "shutil.rmtree(\"dummy_pantry\")"
   ]
  },
  {
   "cell_type": "markdown",
   "id": "59f0ae56",
   "metadata": {},
   "source": [
    "Performance difference between uploading 10 files in each basket compared to 1 file in each basket"
   ]
  },
  {
   "cell_type": "code",
   "execution_count": null,
   "id": "6e2f1a24",
   "metadata": {},
   "outputs": [],
   "source": [
    "categories = [\"10 Files\", \"1 File\"]\n",
    "values = [pandas_time2, pandas_time1]\n",
    "\n",
    "plt.bar(categories, values, color='skyblue', edgecolor='black')\n",
    "\n",
    "plt.xlabel('Number of Upload Files')\n",
    "plt.ylabel('Seconds')\n",
    "plt.title('Performance Difference Between 10 Files and 1 File')\n",
    "\n",
    "plt.show()"
   ]
  },
  {
   "cell_type": "markdown",
   "id": "39b7bb22",
   "metadata": {},
   "source": [
    "As you can see there is almost no difference in performance when we upload multiple files in each basket compared to one file"
   ]
  },
  {
   "cell_type": "code",
   "execution_count": null,
   "id": "d79d43b8",
   "metadata": {},
   "outputs": [],
   "source": [
    "baskets = generate_dummy_baskets(basket_count=1000, file_count=1, file_size_mb=2, file_path=\"dummy_txt\", num_basket_types=1)\n",
    "pandas_time3 = run_index_basket_upload_test(basket_list=baskets, pantry=pantry_pandas)\n",
    "print(f\"1000 baskets, 1 upload file, 2 mb size files, 1 basket type: {pandas_time3} seconds\")\n",
    "shutil.rmtree(\"dummy_txt\")\n",
    "shutil.rmtree(\"dummy_pantry\")"
   ]
  },
  {
   "cell_type": "markdown",
   "id": "aeb062aa",
   "metadata": {},
   "source": [
    "Performance difference between uploading a 2 mb file in each basket compared to a 1 mb file in each basket"
   ]
  },
  {
   "cell_type": "code",
   "execution_count": null,
   "id": "c47c4d73",
   "metadata": {},
   "outputs": [],
   "source": [
    "categories = [\"2 MB\", \"1 MB\"]\n",
    "values = [pandas_time3, pandas_time1]\n",
    "\n",
    "plt.bar(categories, values, color='skyblue', edgecolor='black')\n",
    "\n",
    "plt.xlabel('Size of File (MB)')\n",
    "plt.ylabel('Seconds')\n",
    "plt.title('Performance Difference Between 2 MB and 1 MB files')\n",
    "\n",
    "plt.show()"
   ]
  },
  {
   "cell_type": "markdown",
   "id": "590f3b70",
   "metadata": {},
   "source": [
    "Once again, there is almost no performance difference between uploading a 2 MB file and a 1 MB file in each basket"
   ]
  },
  {
   "cell_type": "code",
   "execution_count": null,
   "id": "ba02101e",
   "metadata": {},
   "outputs": [],
   "source": [
    "baskets = generate_dummy_baskets(basket_count=1000, file_count=1, file_size_mb=1, file_path=\"dummy_txt\", num_basket_types=10)\n",
    "pandas_time4 = run_index_basket_upload_test(basket_list=baskets, pantry=pantry_pandas)\n",
    "print(f\"1000 baskets, 1 upload file, 1 mb size files, 10 basket types: {pandas_time4} seconds\")\n",
    "shutil.rmtree(\"dummy_txt\")\n",
    "shutil.rmtree(\"dummy_pantry\")"
   ]
  },
  {
   "cell_type": "markdown",
   "id": "802ce1e3",
   "metadata": {},
   "source": [
    "Performance difference between uploading 10 basket types versus 1 basket types"
   ]
  },
  {
   "cell_type": "code",
   "execution_count": null,
   "id": "0854503f",
   "metadata": {},
   "outputs": [],
   "source": [
    "categories = [\"10\", \"1\"]\n",
    "values = [pandas_time4, pandas_time1]\n",
    "\n",
    "plt.bar(categories, values, color='skyblue', edgecolor='black')\n",
    "\n",
    "plt.xlabel('Number of Basket Types')\n",
    "plt.ylabel('Seconds')\n",
    "plt.title('Performance Difference Between 10 and 1 Basket Types')"
   ]
  },
  {
   "cell_type": "markdown",
   "id": "8bf079cd",
   "metadata": {},
   "source": [
    "Once again, there seems to be no performance difference between number of basket types"
   ]
  },
  {
   "cell_type": "markdown",
   "id": "b2203d3d",
   "metadata": {},
   "source": [
    "**SQLite Index Test (1000 Baskets, 1 Upload File, 1 MB File Size, 1 Basket Type)**\n",
    "\n",
    "In this test we will test the performance of uploading baskets using the same parameters as the first index pandas test. We will be using the SQLite index backend for these tests."
   ]
  },
  {
   "cell_type": "code",
   "execution_count": null,
   "id": "f0eea789",
   "metadata": {},
   "outputs": [],
   "source": [
    "pantry_sqlite = Pantry(IndexSQLite, pantry_path=\"dummy_pantry\", file_system=LocalFileSystem())"
   ]
  },
  {
   "cell_type": "code",
   "execution_count": null,
   "id": "ef03462e",
   "metadata": {},
   "outputs": [],
   "source": [
    "baskets = generate_dummy_baskets(basket_count=1000, file_count=1, file_size_mb=1, file_path=\"dummy_txt\", num_basket_types=1)\n",
    "sqlite_time1 = run_index_basket_upload_test(basket_list=baskets, pantry=pantry_sqlite)\n",
    "print(f\"1000 baskets, 1 upload file, 1 mb size files, 1 basket type: {sqlite_time1} seconds\")\n",
    "shutil.rmtree(\"dummy_txt\")\n",
    "shutil.rmtree(\"dummy_pantry\")\n",
    "pantry_sqlite.index.drop_index()"
   ]
  },
  {
   "cell_type": "markdown",
   "id": "3b4e9028",
   "metadata": {},
   "source": [
    "Performance difference between the Pandas Index and the SQLite index"
   ]
  },
  {
   "cell_type": "code",
   "execution_count": null,
   "id": "61a3723e",
   "metadata": {},
   "outputs": [],
   "source": [
    "categories = [\"Pandas Index\", \"SQLite Index\"]\n",
    "values = [pandas_time1, sqlite_time1]\n",
    "\n",
    "plt.bar(categories, values, color='skyblue', edgecolor='black')\n",
    "\n",
    "plt.xlabel('Type of Index Backend')\n",
    "plt.ylabel('Seconds')\n",
    "plt.title('Performance Difference Between Pandas and SQLite Indexes')"
   ]
  },
  {
   "cell_type": "markdown",
   "id": "2eb7b06a",
   "metadata": {},
   "source": [
    "From the graph we can see there is a huge performance difference between the pandas and sqlite indexes"
   ]
  },
  {
   "cell_type": "markdown",
   "id": "901ba543",
   "metadata": {},
   "source": [
    "**SQL Index Test (1000 Baskets, 1 Upload File, 1 MB File Size, 1 Basket Type)**\n",
    "\n",
    "In this test we will test the performance of uploading baskets using the same parameters as the first index pandas test and the first index sqlite test. We will be using the SQL index backend for these tests.\n",
    "\n",
    "Please make sure to connect your SQL server and the proper environment variables are in place to run these tests. "
   ]
  },
  {
   "cell_type": "code",
   "execution_count": null,
   "id": "3b546b69",
   "metadata": {},
   "outputs": [],
   "source": [
    "pantry_sql = Pantry(IndexSQL, pantry_path=\"dummy_pantry\", file_system=LocalFileSystem())"
   ]
  },
  {
   "cell_type": "code",
   "execution_count": null,
   "id": "df2d9d28",
   "metadata": {},
   "outputs": [],
   "source": [
    "baskets = generate_dummy_baskets(basket_count=1000, file_count=1, file_size_mb=1, file_path=\"dummy_txt\", num_basket_types=1)\n",
    "sql_time2 = run_index_basket_upload_test(basket_list=baskets, pantry=pantry_sql)\n",
    "print(f\"1000 baskets, 1 upload file, 1 mb size files, 1 basket type: {sql_time2} seconds\")\n",
    "shutil.rmtree(\"dummy_txt\")\n",
    "shutil.rmtree(\"dummy_pantry\")\n",
    "\n",
    "pantry_sql.index.drop_index()"
   ]
  },
  {
   "cell_type": "markdown",
   "id": "6e491086",
   "metadata": {},
   "source": [
    "Performance difference between the Pandas Index, the SQLite Index and the SQL Index."
   ]
  },
  {
   "cell_type": "code",
   "execution_count": null,
   "id": "a85b9792",
   "metadata": {},
   "outputs": [],
   "source": [
    "categories = [\"Pandas Index\", \"SQLite Index\", \"SQL Index\"]\n",
    "values = [pandas_time1, sqlite_time1, sql_time2]\n",
    "\n",
    "plt.bar(categories, values, color='lightpink', edgecolor='black')\n",
    "\n",
    "plt.xlabel('Type of Index Backend')\n",
    "plt.ylabel('Seconds')\n",
    "plt.title('Performance Difference Between Pandas, SQLite and SQL Indexes')"
   ]
  },
  {
   "cell_type": "markdown",
   "id": "f1f0e5ba",
   "metadata": {},
   "source": [
    "Looking at the graph, we can see that the difference between the Pandas Index and the other indexes is quite large. While, the difference between the SQLite Index and the SQL index is a bit smaller. "
   ]
  }
 ],
 "metadata": {
  "kernelspec": {
   "display_name": "base",
   "language": "python",
   "name": "python3"
  },
  "language_info": {
   "codemirror_mode": {
    "name": "ipython",
    "version": 3
   },
   "file_extension": ".py",
   "mimetype": "text/x-python",
   "name": "python",
   "nbconvert_exporter": "python",
   "pygments_lexer": "ipython3",
   "version": "3.13.5"
  }
 },
 "nbformat": 4,
 "nbformat_minor": 5
}
