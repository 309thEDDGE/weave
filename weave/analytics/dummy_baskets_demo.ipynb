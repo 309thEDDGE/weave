{
 "cells": [
  {
   "cell_type": "markdown",
   "id": "37bf4688",
   "metadata": {},
   "source": [
    "<h1>Generating dummy baskets</h1>\n",
    "\n",
    "This notebook contains a demo used to generate dummy metadata and create a number of baskets containing the metadata in a pantry"
   ]
  },
  {
   "cell_type": "code",
   "execution_count": null,
   "id": "2057a271",
   "metadata": {},
   "outputs": [],
   "source": [
    "import shutil\n",
    "from fsspec.implementations.local import LocalFileSystem\n",
    "from weave.pantry import Pantry\n",
    "from weave.index.index_sqlite import IndexSQLite\n",
    "from dummy_baskets import generate_dummy_baskets\n",
    "\n",
    "#Create a new pantry\n",
    "local_fs = LocalFileSystem()\n",
    "pantry1 = Pantry(IndexSQLite, pantry_path=\"weave-demo-pantry\", \n",
    "    file_system=local_fs)\n",
    "\n",
    "#Use ** to unpack the dictionary returned by generate_dummy_files\n",
    "for basket in generate_dummy_baskets():\n",
    "    pantry1.upload_basket(**basket)"
   ]
  },
  {
   "cell_type": "markdown",
   "id": "4831c1c6",
   "metadata": {},
   "source": [
    "Clean up and remove the pantry and dummy_data from the local file system"
   ]
  },
  {
   "cell_type": "code",
   "execution_count": 2,
   "id": "62691b61",
   "metadata": {},
   "outputs": [],
   "source": [
    "shutil.rmtree(\"weave-demo-pantry\")\n",
    "shutil.rmtree(\"dummy_data\")"
   ]
  }
 ],
 "metadata": {
  "kernelspec": {
   "display_name": "base",
   "language": "python",
   "name": "python3"
  },
  "language_info": {
   "codemirror_mode": {
    "name": "ipython",
    "version": 3
   },
   "file_extension": ".py",
   "mimetype": "text/x-python",
   "name": "python",
   "nbconvert_exporter": "python",
   "pygments_lexer": "ipython3",
   "version": "3.13.5"
  }
 },
 "nbformat": 4,
 "nbformat_minor": 5
}
