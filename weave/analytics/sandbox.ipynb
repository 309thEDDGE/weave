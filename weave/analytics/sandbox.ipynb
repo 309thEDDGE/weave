{
 "cells": [
  {
   "cell_type": "markdown",
   "id": "a006e3c1",
   "metadata": {},
   "source": [
    "<h2>Time to generate Dummy Baskets</h2>\n",
    "\n",
    "Below a timer will track the time it takes to generated a pantry with 10 dummy baskets, each basket will have a 1MB file inside of it."
   ]
  },
  {
   "cell_type": "code",
   "execution_count": null,
   "id": "73542393",
   "metadata": {},
   "outputs": [
    {
     "name": "stdout",
     "output_type": "stream",
     "text": [
      "Time taken to generate dummy baskets: 11.039480686187744 seconds\n"
     ]
    }
   ],
   "source": [
    "import time\n",
    "from dummy_baskets import generate_dummy_baskets\n",
    "from weave.index.index_pandas import IndexPandas\n",
    "from weave.index.index_sqlite import IndexSQLite\n",
    "\n",
    "start_time = time.time()\n",
    "\n",
    "generate_dummy_baskets(file_path=\"dummy_data.txt\", index_type=IndexSQLite, basket_count=100)\n",
    "\n",
    "end_time = time.time()\n",
    "time_elapsed = end_time - start_time\n",
    "\n",
    "print(f\"Time taken to generate dummy baskets: {time_elapsed} seconds\")"
   ]
  }
 ],
 "metadata": {
  "kernelspec": {
   "display_name": "base",
   "language": "python",
   "name": "python3"
  },
  "language_info": {
   "codemirror_mode": {
    "name": "ipython",
    "version": 3
   },
   "file_extension": ".py",
   "mimetype": "text/x-python",
   "name": "python",
   "nbconvert_exporter": "python",
   "pygments_lexer": "ipython3",
   "version": "3.13.5"
  }
 },
 "nbformat": 4,
 "nbformat_minor": 5
}
