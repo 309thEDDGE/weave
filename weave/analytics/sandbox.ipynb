{
 "cells": [
  {
   "cell_type": "code",
   "execution_count": 1,
   "id": "fbc9de54",
   "metadata": {},
   "outputs": [],
   "source": [
    "import os\n",
    "import shutil\n",
    "import weave\n",
    "import time\n",
    "\n",
    "import matplotlib as plt\n",
    "\n",
    "from dummy_baskets import generate_dummy_baskets, run_index_basket_upload_test\n",
    "from weave.index.index_pandas import IndexPandas\n",
    "from weave.index.index_sqlite import IndexSQLite\n",
    "from weave.index.index_sql import IndexSQL\n",
    "from fsspec.implementations.local import LocalFileSystem\n",
    "from dask import delayed, compute\n",
    "from dask.distributed import Client, LocalCluster\n",
    "import dask\n",
    "import dask.array as da\n",
    "import dask.bag as db"
   ]
  },
  {
   "cell_type": "code",
   "execution_count": 19,
   "id": "c4f8a5c5",
   "metadata": {},
   "outputs": [
    {
     "name": "stderr",
     "output_type": "stream",
     "text": [
      "c:\\Users\\carso\\miniconda3\\Lib\\site-packages\\distributed\\node.py:187: UserWarning: Port 8787 is already in use.\n",
      "Perhaps you already have a cluster running?\n",
      "Hosting the HTTP server on port 53561 instead\n",
      "  warnings.warn(\n"
     ]
    }
   ],
   "source": [
    "# Set up a local cluster and client with 5 concurrent processes\n",
    "cluster = LocalCluster(n_workers=1, threads_per_worker=1, processes=True)\n",
    "client = Client(cluster)"
   ]
  },
  {
   "cell_type": "code",
   "execution_count": null,
   "id": "079c44ff",
   "metadata": {},
   "outputs": [
    {
     "name": "stdout",
     "output_type": "stream",
     "text": [
      "8.727205514907837\n"
     ]
    }
   ],
   "source": [
    "baskets = generate_dummy_baskets(basket_count=1000, file_count=1, file_size_mb=1, file_path=\"dummy_txt\", num_basket_types=100)\n",
    "\n",
    "# Create a delayed function to upload all of our chunks\n",
    "@delayed\n",
    "def upload_chunk(i, chunk):\n",
    "    pantry = weave.Pantry(IndexSQLite, pantry_path=f\"dummy_pantry_{i}\", file_system=LocalFileSystem())\n",
    "    run_index_basket_upload_test(chunk, pantry)\n",
    "\n",
    "# Create 5 equal chunks each with 200 baskets\n",
    "chunks = [baskets[i:i+200] for i in range(0, len(baskets), 200)]\n",
    "\n",
    "# Upload all chunks in parallel\n",
    "delayed_uploads = [upload_chunk(i, chunk) for i, chunk in enumerate(chunks)]\n",
    "\n",
    "start = time.time()\n",
    "results = client.compute(delayed_uploads, sync=True)\n",
    "end = time.time()\n",
    "print(end - start)\n"
   ]
  },
  {
   "cell_type": "code",
   "execution_count": 20,
   "id": "88a67bc8",
   "metadata": {},
   "outputs": [
    {
     "ename": "KeyboardInterrupt",
     "evalue": "",
     "output_type": "error",
     "traceback": [
      "\u001b[31m---------------------------------------------------------------------------\u001b[39m",
      "\u001b[31mKeyboardInterrupt\u001b[39m                         Traceback (most recent call last)",
      "\u001b[36mCell\u001b[39m\u001b[36m \u001b[39m\u001b[32mIn[20]\u001b[39m\u001b[32m, line 17\u001b[39m\n\u001b[32m     14\u001b[39m delayed_uploads = [upload_chunk(chunk) \u001b[38;5;28;01mfor\u001b[39;00m chunk \u001b[38;5;129;01min\u001b[39;00m chunks]\n\u001b[32m     16\u001b[39m start = time.time()\n\u001b[32m---> \u001b[39m\u001b[32m17\u001b[39m results = \u001b[43mclient\u001b[49m\u001b[43m.\u001b[49m\u001b[43mcompute\u001b[49m\u001b[43m(\u001b[49m\u001b[43mdelayed_uploads\u001b[49m\u001b[43m,\u001b[49m\u001b[43m \u001b[49m\u001b[43msync\u001b[49m\u001b[43m=\u001b[49m\u001b[38;5;28;43;01mTrue\u001b[39;49;00m\u001b[43m)\u001b[49m\n\u001b[32m     18\u001b[39m end = time.time()\n\u001b[32m     19\u001b[39m \u001b[38;5;28mprint\u001b[39m(end - start)\n",
      "\u001b[36mFile \u001b[39m\u001b[32mc:\\Users\\carso\\miniconda3\\Lib\\site-packages\\distributed\\client.py:3696\u001b[39m, in \u001b[36mClient.compute\u001b[39m\u001b[34m(self, collections, sync, optimize_graph, workers, allow_other_workers, resources, retries, priority, fifo_timeout, actors, traverse, **kwargs)\u001b[39m\n\u001b[32m   3693\u001b[39m         futures.append(arg)\n\u001b[32m   3695\u001b[39m \u001b[38;5;28;01mif\u001b[39;00m sync:\n\u001b[32m-> \u001b[39m\u001b[32m3696\u001b[39m     result = \u001b[38;5;28;43mself\u001b[39;49m\u001b[43m.\u001b[49m\u001b[43mgather\u001b[49m\u001b[43m(\u001b[49m\u001b[43mfutures\u001b[49m\u001b[43m)\u001b[49m\n\u001b[32m   3697\u001b[39m \u001b[38;5;28;01melse\u001b[39;00m:\n\u001b[32m   3698\u001b[39m     result = futures\n",
      "\u001b[36mFile \u001b[39m\u001b[32mc:\\Users\\carso\\miniconda3\\Lib\\site-packages\\distributed\\client.py:2548\u001b[39m, in \u001b[36mClient.gather\u001b[39m\u001b[34m(self, futures, errors, direct, asynchronous)\u001b[39m\n\u001b[32m   2545\u001b[39m     local_worker = \u001b[38;5;28;01mNone\u001b[39;00m\n\u001b[32m   2547\u001b[39m \u001b[38;5;28;01mwith\u001b[39;00m shorten_traceback():\n\u001b[32m-> \u001b[39m\u001b[32m2548\u001b[39m     \u001b[38;5;28;01mreturn\u001b[39;00m \u001b[38;5;28;43mself\u001b[39;49m\u001b[43m.\u001b[49m\u001b[43msync\u001b[49m\u001b[43m(\u001b[49m\n\u001b[32m   2549\u001b[39m \u001b[43m        \u001b[49m\u001b[38;5;28;43mself\u001b[39;49m\u001b[43m.\u001b[49m\u001b[43m_gather\u001b[49m\u001b[43m,\u001b[49m\n\u001b[32m   2550\u001b[39m \u001b[43m        \u001b[49m\u001b[43mfutures\u001b[49m\u001b[43m,\u001b[49m\n\u001b[32m   2551\u001b[39m \u001b[43m        \u001b[49m\u001b[43merrors\u001b[49m\u001b[43m=\u001b[49m\u001b[43merrors\u001b[49m\u001b[43m,\u001b[49m\n\u001b[32m   2552\u001b[39m \u001b[43m        \u001b[49m\u001b[43mdirect\u001b[49m\u001b[43m=\u001b[49m\u001b[43mdirect\u001b[49m\u001b[43m,\u001b[49m\n\u001b[32m   2553\u001b[39m \u001b[43m        \u001b[49m\u001b[43mlocal_worker\u001b[49m\u001b[43m=\u001b[49m\u001b[43mlocal_worker\u001b[49m\u001b[43m,\u001b[49m\n\u001b[32m   2554\u001b[39m \u001b[43m        \u001b[49m\u001b[43masynchronous\u001b[49m\u001b[43m=\u001b[49m\u001b[43masynchronous\u001b[49m\u001b[43m,\u001b[49m\n\u001b[32m   2555\u001b[39m \u001b[43m    \u001b[49m\u001b[43m)\u001b[49m\n",
      "\u001b[36mFile \u001b[39m\u001b[32mc:\\Users\\carso\\miniconda3\\Lib\\threading.py:659\u001b[39m, in \u001b[36mEvent.wait\u001b[39m\u001b[34m(self, timeout)\u001b[39m\n\u001b[32m    657\u001b[39m signaled = \u001b[38;5;28mself\u001b[39m._flag\n\u001b[32m    658\u001b[39m \u001b[38;5;28;01mif\u001b[39;00m \u001b[38;5;129;01mnot\u001b[39;00m signaled:\n\u001b[32m--> \u001b[39m\u001b[32m659\u001b[39m     signaled = \u001b[38;5;28;43mself\u001b[39;49m\u001b[43m.\u001b[49m\u001b[43m_cond\u001b[49m\u001b[43m.\u001b[49m\u001b[43mwait\u001b[49m\u001b[43m(\u001b[49m\u001b[43mtimeout\u001b[49m\u001b[43m)\u001b[49m\n\u001b[32m    660\u001b[39m \u001b[38;5;28;01mreturn\u001b[39;00m signaled\n",
      "\u001b[36mFile \u001b[39m\u001b[32mc:\\Users\\carso\\miniconda3\\Lib\\threading.py:363\u001b[39m, in \u001b[36mCondition.wait\u001b[39m\u001b[34m(self, timeout)\u001b[39m\n\u001b[32m    361\u001b[39m \u001b[38;5;28;01melse\u001b[39;00m:\n\u001b[32m    362\u001b[39m     \u001b[38;5;28;01mif\u001b[39;00m timeout > \u001b[32m0\u001b[39m:\n\u001b[32m--> \u001b[39m\u001b[32m363\u001b[39m         gotit = \u001b[43mwaiter\u001b[49m\u001b[43m.\u001b[49m\u001b[43macquire\u001b[49m\u001b[43m(\u001b[49m\u001b[38;5;28;43;01mTrue\u001b[39;49;00m\u001b[43m,\u001b[49m\u001b[43m \u001b[49m\u001b[43mtimeout\u001b[49m\u001b[43m)\u001b[49m\n\u001b[32m    364\u001b[39m     \u001b[38;5;28;01melse\u001b[39;00m:\n\u001b[32m    365\u001b[39m         gotit = waiter.acquire(\u001b[38;5;28;01mFalse\u001b[39;00m)\n",
      "\u001b[31mKeyboardInterrupt\u001b[39m: "
     ]
    }
   ],
   "source": [
    "baskets = generate_dummy_baskets(basket_count=1000, file_count=1, file_size_mb=1, file_path=\"dummy_txt\", num_basket_types=1)\n",
    "pantry = weave.Pantry(IndexPandas, pantry_path=\"dummy_pantry\", file_system=LocalFileSystem())\n",
    "\n",
    "# Create a delayed function to upload all of our chunks\n",
    "@delayed\n",
    "def upload_chunk(chunk):\n",
    "    pantry = weave.Pantry(IndexPandas, pantry_path=\"dummy_pantry\", file_system=LocalFileSystem())\n",
    "    run_index_basket_upload_test(chunk, pantry)\n",
    "\n",
    "# Create 5 equal chunks each with 200 baskets\n",
    "chunks = [baskets[i:i+200] for i in range(0, len(baskets), 200)]\n",
    "\n",
    "# Upload all chunks in parallel\n",
    "delayed_uploads = [upload_chunk(chunk) for chunk in chunks]\n",
    "\n",
    "start = time.time()\n",
    "results = client.compute(delayed_uploads, sync=True)\n",
    "end = time.time()\n",
    "print(end - start)"
   ]
  },
  {
   "cell_type": "code",
   "execution_count": 18,
   "id": "b7208bb6",
   "metadata": {},
   "outputs": [
    {
     "ename": "AttributeError",
     "evalue": "'IndexPandas' object has no attribute 'drop_index'",
     "output_type": "error",
     "traceback": [
      "\u001b[31m---------------------------------------------------------------------------\u001b[39m",
      "\u001b[31mAttributeError\u001b[39m                            Traceback (most recent call last)",
      "\u001b[36mCell\u001b[39m\u001b[36m \u001b[39m\u001b[32mIn[18]\u001b[39m\u001b[32m, line 3\u001b[39m\n\u001b[32m      1\u001b[39m shutil.rmtree(\u001b[33m\"\u001b[39m\u001b[33mdummy_txt\u001b[39m\u001b[33m\"\u001b[39m)\n\u001b[32m      2\u001b[39m shutil.rmtree(\u001b[33m\"\u001b[39m\u001b[33mdummy_pantry\u001b[39m\u001b[33m\"\u001b[39m)\n\u001b[32m----> \u001b[39m\u001b[32m3\u001b[39m \u001b[43mpantry\u001b[49m\u001b[43m.\u001b[49m\u001b[43mindex\u001b[49m\u001b[43m.\u001b[49m\u001b[43mdrop_index\u001b[49m()\n",
      "\u001b[31mAttributeError\u001b[39m: 'IndexPandas' object has no attribute 'drop_index'"
     ]
    }
   ],
   "source": [
    "shutil.rmtree(\"dummy_txt\")\n",
    "shutil.rmtree(\"dummy_pantry\")\n",
    "pantry.index.drop_index()"
   ]
  },
  {
   "cell_type": "code",
   "execution_count": 9,
   "id": "e7d8ce3f",
   "metadata": {},
   "outputs": [],
   "source": [
    "# Tear down all of the pantries and indexes, along with the dummy file directory\n",
    "shutil.rmtree(\"dummy_txt\")\n",
    "\n",
    "for i in range(5):\n",
    "    pantry = weave.Pantry(IndexSQLite, pantry_path=f\"dummy_pantry_{i}\", file_system=LocalFileSystem())\n",
    "    if str(pantry.index) == \"IndexSQLite\" or str(pantry.index) == \"IndexSQL\":\n",
    "        pantry.index.drop_index()\n",
    "    shutil.rmtree(f\"dummy_pantry_{i}\")"
   ]
  },
  {
   "cell_type": "markdown",
   "id": "86e9eeb6",
   "metadata": {},
   "source": []
  },
  {
   "cell_type": "code",
   "execution_count": 5,
   "id": "b6dd7a2e",
   "metadata": {},
   "outputs": [],
   "source": [
    "# Shutdown the client\n",
    "client.shutdown()"
   ]
  },
  {
   "cell_type": "code",
   "execution_count": 4,
   "id": "c815dac0",
   "metadata": {},
   "outputs": [
    {
     "name": "stdout",
     "output_type": "stream",
     "text": [
      "IndexSQLite\n"
     ]
    },
    {
     "name": "stderr",
     "output_type": "stream",
     "text": [
      "c:\\Users\\carso\\miniconda3\\Lib\\site-packages\\distributed\\node.py:187: UserWarning: Port 8787 is already in use.\n",
      "Perhaps you already have a cluster running?\n",
      "Hosting the HTTP server on port 54912 instead\n",
      "  warnings.warn(\n"
     ]
    },
    {
     "ename": "ValueError",
     "evalue": "Unable to upload a basket to a read-only file system.",
     "output_type": "error",
     "traceback": [
      "\u001b[31m---------------------------------------------------------------------------\u001b[39m",
      "\u001b[31mValueError\u001b[39m                                Traceback (most recent call last)",
      "\u001b[36mCell\u001b[39m\u001b[36m \u001b[39m\u001b[32mIn[4]\u001b[39m\u001b[32m, line 15\u001b[39m\n\u001b[32m     13\u001b[39m start = time.time()\n\u001b[32m     14\u001b[39m dask_baskets = db.from_sequence(baskets, partition_size=\u001b[32m200\u001b[39m)\n\u001b[32m---> \u001b[39m\u001b[32m15\u001b[39m \u001b[43mdask_baskets\u001b[49m\u001b[43m.\u001b[49m\u001b[43mmap_partitions\u001b[49m\u001b[43m(\u001b[49m\u001b[43mupload_partition\u001b[49m\u001b[43m)\u001b[49m\u001b[43m.\u001b[49m\u001b[43mcompute\u001b[49m\u001b[43m(\u001b[49m\u001b[43m)\u001b[49m\n\u001b[32m     16\u001b[39m end = time.time()\n\u001b[32m     18\u001b[39m \u001b[38;5;28mprint\u001b[39m(end - start)\n",
      "\u001b[36mFile \u001b[39m\u001b[32mc:\\Users\\carso\\miniconda3\\Lib\\site-packages\\dask\\base.py:373\u001b[39m, in \u001b[36mDaskMethodsMixin.compute\u001b[39m\u001b[34m(self, **kwargs)\u001b[39m\n\u001b[32m    349\u001b[39m \u001b[38;5;28;01mdef\u001b[39;00m\u001b[38;5;250m \u001b[39m\u001b[34mcompute\u001b[39m(\u001b[38;5;28mself\u001b[39m, **kwargs):\n\u001b[32m    350\u001b[39m \u001b[38;5;250m    \u001b[39m\u001b[33;03m\"\"\"Compute this dask collection\u001b[39;00m\n\u001b[32m    351\u001b[39m \n\u001b[32m    352\u001b[39m \u001b[33;03m    This turns a lazy Dask collection into its in-memory equivalent.\u001b[39;00m\n\u001b[32m   (...)\u001b[39m\u001b[32m    371\u001b[39m \u001b[33;03m    dask.compute\u001b[39;00m\n\u001b[32m    372\u001b[39m \u001b[33;03m    \"\"\"\u001b[39;00m\n\u001b[32m--> \u001b[39m\u001b[32m373\u001b[39m     (result,) = \u001b[43mcompute\u001b[49m\u001b[43m(\u001b[49m\u001b[38;5;28;43mself\u001b[39;49m\u001b[43m,\u001b[49m\u001b[43m \u001b[49m\u001b[43mtraverse\u001b[49m\u001b[43m=\u001b[49m\u001b[38;5;28;43;01mFalse\u001b[39;49;00m\u001b[43m,\u001b[49m\u001b[43m \u001b[49m\u001b[43m*\u001b[49m\u001b[43m*\u001b[49m\u001b[43mkwargs\u001b[49m\u001b[43m)\u001b[49m\n\u001b[32m    374\u001b[39m     \u001b[38;5;28;01mreturn\u001b[39;00m result\n",
      "\u001b[36mFile \u001b[39m\u001b[32mc:\\Users\\carso\\miniconda3\\Lib\\site-packages\\dask\\base.py:681\u001b[39m, in \u001b[36mcompute\u001b[39m\u001b[34m(traverse, optimize_graph, scheduler, get, *args, **kwargs)\u001b[39m\n\u001b[32m    678\u001b[39m     expr = expr.optimize()\n\u001b[32m    679\u001b[39m     keys = \u001b[38;5;28mlist\u001b[39m(flatten(expr.__dask_keys__()))\n\u001b[32m--> \u001b[39m\u001b[32m681\u001b[39m     results = \u001b[43mschedule\u001b[49m\u001b[43m(\u001b[49m\u001b[43mexpr\u001b[49m\u001b[43m,\u001b[49m\u001b[43m \u001b[49m\u001b[43mkeys\u001b[49m\u001b[43m,\u001b[49m\u001b[43m \u001b[49m\u001b[43m*\u001b[49m\u001b[43m*\u001b[49m\u001b[43mkwargs\u001b[49m\u001b[43m)\u001b[49m\n\u001b[32m    683\u001b[39m \u001b[38;5;28;01mreturn\u001b[39;00m repack(results)\n",
      "\u001b[36mCell\u001b[39m\u001b[36m \u001b[39m\u001b[32mIn[4]\u001b[39m\u001b[32m, line 10\u001b[39m, in \u001b[36mupload_partition\u001b[39m\u001b[34m()\u001b[39m\n\u001b[32m      8\u001b[39m \u001b[38;5;28;01mdef\u001b[39;00m\u001b[38;5;250m \u001b[39m\u001b[34mupload_partition\u001b[39m(partition):\n\u001b[32m      9\u001b[39m     pantry = weave.Pantry(IndexSQLite, pantry_path=\u001b[33m\"\u001b[39m\u001b[33mdummy_pantry\u001b[39m\u001b[33m\"\u001b[39m, file_system=LocalFileSystem())\n\u001b[32m---> \u001b[39m\u001b[32m10\u001b[39m     run_index_basket_upload_test(partition, pantry)\n\u001b[32m     11\u001b[39m     \u001b[38;5;28;01mreturn\u001b[39;00m \u001b[33mf\u001b[39m\u001b[33m\"\u001b[39m\u001b[33mUploaded \u001b[39m\u001b[38;5;132;01m{\u001b[39;00m\u001b[38;5;28mlen\u001b[39m(partition)\u001b[38;5;132;01m}\u001b[39;00m\u001b[33m baskets\u001b[39m\u001b[33m\"\u001b[39m\n",
      "\u001b[36mFile \u001b[39m\u001b[32mc:\\Users\\carso\\OneDrive\\Documents\\daily\\weave\\weave\\analytics\\dummy_baskets.py:122\u001b[39m, in \u001b[36mrun_index_basket_upload_test\u001b[39m\u001b[34m()\u001b[39m\n\u001b[32m    120\u001b[39m \u001b[38;5;66;03m#Use ** to unpack the dictionary returned by generate_dummy_files\u001b[39;00m\n\u001b[32m    121\u001b[39m \u001b[38;5;28;01mfor\u001b[39;00m basket \u001b[38;5;129;01min\u001b[39;00m upload_baskets:\n\u001b[32m--> \u001b[39m\u001b[32m122\u001b[39m     pantry.upload_basket(**basket)\n\u001b[32m    124\u001b[39m end_time = time.time()\n\u001b[32m    125\u001b[39m total_upload_time = end_time - start_time\n",
      "\u001b[36mFile \u001b[39m\u001b[32mc:\\Users\\carso\\miniconda3\\Lib\\site-packages\\weave\\pantry.py:257\u001b[39m, in \u001b[36mupload_basket\u001b[39m\u001b[34m()\u001b[39m\n\u001b[32m    255\u001b[39m \u001b[38;5;66;03m# Check if file system is read-only. If so, raise error.\u001b[39;00m\n\u001b[32m    256\u001b[39m \u001b[38;5;28;01mif\u001b[39;00m \u001b[38;5;28mself\u001b[39m.is_read_only:\n\u001b[32m--> \u001b[39m\u001b[32m257\u001b[39m     \u001b[38;5;28;01mraise\u001b[39;00m \u001b[38;5;167;01mValueError\u001b[39;00m(\n\u001b[32m    258\u001b[39m         \u001b[33m\"\u001b[39m\u001b[33mUnable to upload a basket to a read-only file system.\u001b[39m\u001b[33m\"\u001b[39m\n\u001b[32m    259\u001b[39m     )\n\u001b[32m    261\u001b[39m parent_ids = kwargs.pop(\u001b[33m\"\u001b[39m\u001b[33mparent_ids\u001b[39m\u001b[33m\"\u001b[39m, [])\n\u001b[32m    262\u001b[39m metadata = kwargs.pop(\u001b[33m\"\u001b[39m\u001b[33mmetadata\u001b[39m\u001b[33m\"\u001b[39m, {})\n",
      "\u001b[31mValueError\u001b[39m: Unable to upload a basket to a read-only file system."
     ]
    }
   ],
   "source": [
    "baskets = generate_dummy_baskets(basket_count=1000, file_count=1, file_size_mb=1, file_path=\"dummy_txt\", num_basket_types=5)\n",
    "pantry = weave.Pantry(IndexSQLite, pantry_path=\"dummy_pantry\", file_system=LocalFileSystem())\n",
    "print(pantry.index)\n",
    "\n",
    "cluster = LocalCluster(n_workers=5, threads_per_worker=1, processes=True)\n",
    "client = Client(cluster)\n",
    "\n",
    "def upload_partition(partition):\n",
    "    pantry = weave.Pantry(IndexSQLite, pantry_path=\"dummy_pantry\", file_system=LocalFileSystem())\n",
    "    run_index_basket_upload_test(partition, pantry)\n",
    "    return f\"Uploaded {len(partition)} baskets\"\n",
    "\n",
    "start = time.time()\n",
    "dask_baskets = db.from_sequence(baskets, partition_size=200)\n",
    "dask_baskets.map_partitions(upload_partition).compute()\n",
    "end = time.time()\n",
    "\n",
    "print(end - start)"
   ]
  },
  {
   "cell_type": "code",
   "execution_count": null,
   "id": "fac5ef05",
   "metadata": {},
   "outputs": [],
   "source": []
  }
 ],
 "metadata": {
  "kernelspec": {
   "display_name": "base",
   "language": "python",
   "name": "python3"
  },
  "language_info": {
   "codemirror_mode": {
    "name": "ipython",
    "version": 3
   },
   "file_extension": ".py",
   "mimetype": "text/x-python",
   "name": "python",
   "nbconvert_exporter": "python",
   "pygments_lexer": "ipython3",
   "version": "3.13.2"
  }
 },
 "nbformat": 4,
 "nbformat_minor": 5
}
