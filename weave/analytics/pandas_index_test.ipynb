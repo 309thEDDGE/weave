{
 "cells": [
  {
   "cell_type": "markdown",
   "id": "6f28c011",
   "metadata": {},
   "source": [
    "Code to generate a pandas index test"
   ]
  }
 ],
 "metadata": {
  "language_info": {
   "name": "python"
  }
 },
 "nbformat": 4,
 "nbformat_minor": 5
}
