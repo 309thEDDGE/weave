{
 "cells": [
  {
   "cell_type": "markdown",
   "id": "d5fba9a6-9fef-4413-abde-e7572e4c4c2a",
   "metadata": {},
   "source": [
    "# How to use Weave"
   ]
  },
  {
   "cell_type": "markdown",
   "id": "8cf03aa3-73db-4ece-91e4-ceeca931b81c",
   "metadata": {},
   "source": [
    "Weave is a custom package used to facilitate the creation and maintenance of complex data warehouses.\n",
    "\n",
    "Weave was created from a need to track the lineage of data products derived from multiple sources. Weave can be used to upload arbitrary data products to a datastore with options to store metadata and information about how data were derived. When Weave is used to upload the data, Weave can then be used to access the data using Pythonic API calls, as well as giving the user easy access to data provenance.\n",
    "\n",
    "In this notebook we will demo some of Weave's functionality."
   ]
  },
  {
   "cell_type": "code",
   "execution_count": 1,
   "id": "cba43194-5565-4be0-9ae5-0f4ea28b5e80",
   "metadata": {
    "tags": []
   },
   "outputs": [],
   "source": [
    "import os\n",
    "\n",
    "import numpy as np\n",
    "import pandas as pd\n",
    "\n",
    "import weave\n",
    "from weave.pantry import Pantry\n",
    "from weave.index.index_pandas import IndexPandas\n",
    "from weave.index import index_abc\n",
    "from weave.index.index_sqlite import IndexSQLite\n",
    "from weave import validate\n",
    "\n",
    "from fsspec.implementations.local import LocalFileSystem"
   ]
  },
  {
   "cell_type": "markdown",
   "id": "8afc1d77-2028-4a0f-aa1d-c82ea0589e45",
   "metadata": {
    "tags": []
   },
   "source": [
    "## Creating a Pantry/Index\n",
    "A pantry is a storage location that holds baskets or collections of baskets. An Index is an object or file that tracks the baskets in a pantry.\n",
    "Below we will demonstrate how to create a pantry/Index, but first we need a location for the pantry. In this demo we will place all of our pantry's in the local file system. "
   ]
  },
  {
   "cell_type": "code",
   "execution_count": 2,
   "id": "5f4b14a3-1ed7-4820-a744-a58543266eff",
   "metadata": {
    "tags": []
   },
   "outputs": [],
   "source": [
    "local_fs = LocalFileSystem()\n",
    "text_file = open(\"WeaveDemoText.txt\", \"w\")\n",
    "text_file.write(\"This is some text for the weave notebook demo.\")\n",
    "text_file.close()"
   ]
  },
  {
   "cell_type": "markdown",
   "id": "65f4187f-86b7-43c5-8104-7569d5cbabda",
   "metadata": {},
   "source": [
    "Below we create a pantry using the local file system within our working directory. "
   ]
  },
  {
   "cell_type": "code",
   "execution_count": 3,
   "id": "62e56228-39aa-4b07-9fb9-4aba8e055cde",
   "metadata": {
    "tags": []
   },
   "outputs": [],
   "source": [
    "pantry_name = \"weave-demo-pantry\"\n",
    "local_fs.mkdir(pantry_name)"
   ]
  },
  {
   "cell_type": "markdown",
   "id": "0fc0a17a-1046-4357-8c3d-34ca0a36e7bb",
   "metadata": {},
   "source": [
    "Next, let's create a pantry where we will store our baskets. For this pantry we will using be using pandas for the index backend. The pandas backend is convenient because it is a familiar library, but it can be slow for large amounts of data. Later in the demo we will use a SQLite backend, which would be much faster for large amounts of data."
   ]
  },
  {
   "cell_type": "code",
   "execution_count": 4,
   "id": "7d2f65ea-f994-4130-9d1f-9739e988d2d9",
   "metadata": {
    "tags": []
   },
   "outputs": [
    {
     "data": {
      "text/html": [
       "<div>\n",
       "<style scoped>\n",
       "    .dataframe tbody tr th:only-of-type {\n",
       "        vertical-align: middle;\n",
       "    }\n",
       "\n",
       "    .dataframe tbody tr th {\n",
       "        vertical-align: top;\n",
       "    }\n",
       "\n",
       "    .dataframe thead th {\n",
       "        text-align: right;\n",
       "    }\n",
       "</style>\n",
       "<table border=\"1\" class=\"dataframe\">\n",
       "  <thead>\n",
       "    <tr style=\"text-align: right;\">\n",
       "      <th></th>\n",
       "      <th>uuid</th>\n",
       "      <th>upload_time</th>\n",
       "      <th>parent_uuids</th>\n",
       "      <th>basket_type</th>\n",
       "      <th>label</th>\n",
       "      <th>weave_version</th>\n",
       "      <th>address</th>\n",
       "      <th>storage_type</th>\n",
       "    </tr>\n",
       "  </thead>\n",
       "  <tbody>\n",
       "  </tbody>\n",
       "</table>\n",
       "</div>"
      ],
      "text/plain": [
       "Empty DataFrame\n",
       "Columns: [uuid, upload_time, parent_uuids, basket_type, label, weave_version, address, storage_type]\n",
       "Index: []"
      ]
     },
     "execution_count": 4,
     "metadata": {},
     "output_type": "execute_result"
    }
   ],
   "source": [
    "pantry1 = Pantry(IndexPandas, pantry_path=pantry_name, file_system=local_fs)\n",
    "index_df = pantry1.index.to_pandas_df()\n",
    "index_df"
   ]
  },
  {
   "cell_type": "markdown",
   "id": "1f3d4f92-ae46-457d-8abf-0023e2015954",
   "metadata": {},
   "source": [
    "## Creating and Uploading Baskets\n",
    "A basket is a representation of an atomic data product within a pantry. Below we will demonstrate how to upload a basket containing our dummy data, called WeaveDemoText, using a pantry object. When uploading a basket we create a list of the files we want to upload containing a dictionary specifying the path and stub. Path is Path of the file on the local system. Stub is a boolean to indicate whether the basket includes a copy or reference to the file. True indicates a reference is uploaded. The user also can specify the type of the basket using a string and metadata about the basket using a dictionary."
   ]
  },
  {
   "cell_type": "code",
   "execution_count": 5,
   "id": "5f2d6c18-ad13-4d76-a2f0-8f11518af887",
   "metadata": {
    "tags": []
   },
   "outputs": [
    {
     "data": {
      "text/html": [
       "<div>\n",
       "<style scoped>\n",
       "    .dataframe tbody tr th:only-of-type {\n",
       "        vertical-align: middle;\n",
       "    }\n",
       "\n",
       "    .dataframe tbody tr th {\n",
       "        vertical-align: top;\n",
       "    }\n",
       "\n",
       "    .dataframe thead th {\n",
       "        text-align: right;\n",
       "    }\n",
       "</style>\n",
       "<table border=\"1\" class=\"dataframe\">\n",
       "  <thead>\n",
       "    <tr style=\"text-align: right;\">\n",
       "      <th></th>\n",
       "      <th>uuid</th>\n",
       "      <th>upload_time</th>\n",
       "      <th>parent_uuids</th>\n",
       "      <th>basket_type</th>\n",
       "      <th>label</th>\n",
       "      <th>weave_version</th>\n",
       "      <th>address</th>\n",
       "      <th>storage_type</th>\n",
       "    </tr>\n",
       "  </thead>\n",
       "  <tbody>\n",
       "    <tr>\n",
       "      <th>0</th>\n",
       "      <td>f868e7c0626b11f0845fd4d8534edb2f</td>\n",
       "      <td>2025-07-16 17:40:31.719633+00:00</td>\n",
       "      <td>[]</td>\n",
       "      <td>test-1</td>\n",
       "      <td></td>\n",
       "      <td>1.13.9</td>\n",
       "      <td>weave-demo-pantry\\test-1\\f868e7c0626b11f0845fd...</td>\n",
       "      <td>LocalFileSystem</td>\n",
       "    </tr>\n",
       "  </tbody>\n",
       "</table>\n",
       "</div>"
      ],
      "text/plain": [
       "                               uuid                      upload_time  \\\n",
       "0  f868e7c0626b11f0845fd4d8534edb2f 2025-07-16 17:40:31.719633+00:00   \n",
       "\n",
       "  parent_uuids basket_type label weave_version  \\\n",
       "0           []      test-1              1.13.9   \n",
       "\n",
       "                                             address     storage_type  \n",
       "0  weave-demo-pantry\\test-1\\f868e7c0626b11f0845fd...  LocalFileSystem  "
      ]
     },
     "execution_count": 5,
     "metadata": {},
     "output_type": "execute_result"
    }
   ],
   "source": [
    "pantry1.upload_basket(upload_items=[{'path':'WeaveDemoText.txt', 'stub':False}], basket_type=\"test-1\", metadata = {'Data Type':'text'})"
   ]
  },
  {
   "cell_type": "markdown",
   "id": "e3f152e7-5735-451a-8864-7e8087c66305",
   "metadata": {},
   "source": [
    "Exporting the index as a dataframe allows us to easily access information about our pantry and baskets."
   ]
  },
  {
   "cell_type": "code",
   "execution_count": 6,
   "id": "f2f5950e-3653-41be-9adf-e92ddd659e6d",
   "metadata": {
    "tags": []
   },
   "outputs": [
    {
     "data": {
      "text/html": [
       "<div>\n",
       "<style scoped>\n",
       "    .dataframe tbody tr th:only-of-type {\n",
       "        vertical-align: middle;\n",
       "    }\n",
       "\n",
       "    .dataframe tbody tr th {\n",
       "        vertical-align: top;\n",
       "    }\n",
       "\n",
       "    .dataframe thead th {\n",
       "        text-align: right;\n",
       "    }\n",
       "</style>\n",
       "<table border=\"1\" class=\"dataframe\">\n",
       "  <thead>\n",
       "    <tr style=\"text-align: right;\">\n",
       "      <th></th>\n",
       "      <th>uuid</th>\n",
       "      <th>upload_time</th>\n",
       "      <th>parent_uuids</th>\n",
       "      <th>basket_type</th>\n",
       "      <th>label</th>\n",
       "      <th>weave_version</th>\n",
       "      <th>address</th>\n",
       "      <th>storage_type</th>\n",
       "    </tr>\n",
       "  </thead>\n",
       "  <tbody>\n",
       "    <tr>\n",
       "      <th>0</th>\n",
       "      <td>f868e7c0626b11f0845fd4d8534edb2f</td>\n",
       "      <td>2025-07-16 17:40:31.719633+00:00</td>\n",
       "      <td>[]</td>\n",
       "      <td>test-1</td>\n",
       "      <td></td>\n",
       "      <td>1.13.9</td>\n",
       "      <td>weave-demo-pantry\\test-1\\f868e7c0626b11f0845fd...</td>\n",
       "      <td>LocalFileSystem</td>\n",
       "    </tr>\n",
       "  </tbody>\n",
       "</table>\n",
       "</div>"
      ],
      "text/plain": [
       "                               uuid                      upload_time  \\\n",
       "0  f868e7c0626b11f0845fd4d8534edb2f 2025-07-16 17:40:31.719633+00:00   \n",
       "\n",
       "  parent_uuids basket_type label weave_version  \\\n",
       "0           []      test-1              1.13.9   \n",
       "\n",
       "                                             address     storage_type  \n",
       "0  weave-demo-pantry\\test-1\\f868e7c0626b11f0845fd...  LocalFileSystem  "
      ]
     },
     "execution_count": 6,
     "metadata": {},
     "output_type": "execute_result"
    }
   ],
   "source": [
    "pantry1_df = pantry1.index.to_pandas_df()\n",
    "pantry1_df"
   ]
  },
  {
   "cell_type": "markdown",
   "id": "2688b8cd-50f8-432b-88be-f75f949502ab",
   "metadata": {
    "tags": []
   },
   "source": [
    "Having our pantry index catalog in a dataframe allows us to use standard pandas syntax to access information in the dataframe, like the UUID below."
   ]
  },
  {
   "cell_type": "code",
   "execution_count": 7,
   "id": "1abeaa30-0155-4830-9e83-396cc557038f",
   "metadata": {
    "tags": []
   },
   "outputs": [
    {
     "data": {
      "text/plain": [
       "'f868e7c0626b11f0845fd4d8534edb2f'"
      ]
     },
     "execution_count": 7,
     "metadata": {},
     "output_type": "execute_result"
    }
   ],
   "source": [
    "pantry1_df['uuid'][0]"
   ]
  },
  {
   "cell_type": "markdown",
   "id": "872d3663-3bf2-4d6f-9e78-b375edc42984",
   "metadata": {
    "tags": []
   },
   "source": [
    "## Accessing Basket data\n",
    "\n",
    "Weave handles much of its data provenance tracking through the creation of baskets. A basket is meant to represent an atomic data product. It can contain whatever a user wishes to put in the basket, but it's intended purpose is to hold a single instance of one type of data, be it an image, video, text file, or curated training set. A basket in its entirety contains the actual data files specified by the user along with the supplemental files that Weave creates. These supplemental files contain data integrity information, arbitrary metadata specified by the user, and lineage artifacts. Baskets are created at their time of upload and uploaded in an organized state to the data store. Parent UUIDS are the UUIDS Basket(s) that created the current basket.\n",
    "\n",
    "Next, we will demonstrate how to access specific basket data."
   ]
  },
  {
   "cell_type": "code",
   "execution_count": 8,
   "id": "5ef484ce-be78-4fc0-adeb-ded43994bfbc",
   "metadata": {
    "tags": []
   },
   "outputs": [
    {
     "data": {
      "text/plain": [
       "<weave.basket.Basket at 0x275c1d05a90>"
      ]
     },
     "execution_count": 8,
     "metadata": {},
     "output_type": "execute_result"
    }
   ],
   "source": [
    "basket = pantry1.get_basket(pantry1_df['uuid'][0])\n",
    "basket"
   ]
  },
  {
   "cell_type": "markdown",
   "id": "b90484c7-1dd7-4e2f-bbeb-5f26acc239f5",
   "metadata": {},
   "source": [
    "The manifest contains a concise description of the basket in dictionary form."
   ]
  },
  {
   "cell_type": "code",
   "execution_count": 9,
   "id": "f229c40a-d79c-4ae9-836d-3a7db68eb563",
   "metadata": {
    "tags": []
   },
   "outputs": [
    {
     "data": {
      "text/plain": [
       "{'uuid': 'f868e7c0626b11f0845fd4d8534edb2f',\n",
       " 'upload_time': '2025-07-16T17:40:31.719633+00:00',\n",
       " 'parent_uuids': [],\n",
       " 'basket_type': 'test-1',\n",
       " 'label': '',\n",
       " 'weave_version': '1.13.9'}"
      ]
     },
     "execution_count": 9,
     "metadata": {},
     "output_type": "execute_result"
    }
   ],
   "source": [
    "basket.get_manifest()"
   ]
  },
  {
   "cell_type": "markdown",
   "id": "fe4857b6-46fa-4847-9948-211befee5c10",
   "metadata": {},
   "source": [
    "The supplement data gives extended details of basket contents, including integrity data."
   ]
  },
  {
   "cell_type": "code",
   "execution_count": 10,
   "id": "be3a7df5-3b20-4719-bae2-61a86cb3a3cf",
   "metadata": {
    "tags": []
   },
   "outputs": [
    {
     "data": {
      "text/plain": [
       "{'integrity_data': [{'file_size': 46,\n",
       "   'hash': 'd7c3ccaccf38fb503bff57510e470eae1501be661e4a97d3a2007686cf1f9d40',\n",
       "   'access_date': '2025-07-16T17:40:31.719075+00:00',\n",
       "   'source_path': 'WeaveDemoText.txt',\n",
       "   'byte_count': 100000000,\n",
       "   'stub': False,\n",
       "   'upload_path': 'weave-demo-pantry\\\\test-1\\\\f868e7c0626b11f0845fd4d8534edb2f\\\\WeaveDemoText.txt'}],\n",
       " 'upload_items': [{'path': 'WeaveDemoText.txt', 'stub': False}]}"
      ]
     },
     "execution_count": 10,
     "metadata": {},
     "output_type": "execute_result"
    }
   ],
   "source": [
    "basket.get_supplement()"
   ]
  },
  {
   "cell_type": "markdown",
   "id": "c9afa0d0-42ea-4277-86f5-58418a499c1d",
   "metadata": {},
   "source": [
    "Now let's access the metadata for our basket. Metadata is data the user may add when uploading a basket to a pantry."
   ]
  },
  {
   "cell_type": "code",
   "execution_count": 11,
   "id": "95ffc12c-6053-43de-a47e-1a00b273cce4",
   "metadata": {
    "tags": []
   },
   "outputs": [
    {
     "data": {
      "text/plain": [
       "{'Data Type': 'text'}"
      ]
     },
     "execution_count": 11,
     "metadata": {},
     "output_type": "execute_result"
    }
   ],
   "source": [
    "basket.get_metadata()"
   ]
  },
  {
   "cell_type": "markdown",
   "id": "9338c1a2-a19c-4ff0-a151-d320b5aa76e7",
   "metadata": {},
   "source": [
    "Much like the linux ls command, Weave's ls lists files and directories within the file system."
   ]
  },
  {
   "cell_type": "code",
   "execution_count": 12,
   "id": "286b1cb7-6abc-4707-bc30-a163aec301a2",
   "metadata": {
    "tags": []
   },
   "outputs": [
    {
     "data": {
      "text/plain": [
       "['c:/Users/carso/OneDrive/Documents/daily/weave/weave-demo-pantry/test-1/f868e7c0626b11f0845fd4d8534edb2f/WeaveDemoText.txt']"
      ]
     },
     "execution_count": 12,
     "metadata": {},
     "output_type": "execute_result"
    }
   ],
   "source": [
    "basket_contents = basket.ls()\n",
    "basket_contents"
   ]
  },
  {
   "cell_type": "markdown",
   "id": "ebde9549-4646-4964-87d7-389b874f8982",
   "metadata": {},
   "source": [
    "## Data Provenance\n",
    "\n",
    "Next, we will demonstrate how data provenance works with different baskets"
   ]
  },
  {
   "cell_type": "code",
   "execution_count": 13,
   "id": "fed30aa8-3224-4cdb-b708-047dd986cbda",
   "metadata": {},
   "outputs": [
    {
     "data": {
      "text/html": [
       "<div>\n",
       "<style scoped>\n",
       "    .dataframe tbody tr th:only-of-type {\n",
       "        vertical-align: middle;\n",
       "    }\n",
       "\n",
       "    .dataframe tbody tr th {\n",
       "        vertical-align: top;\n",
       "    }\n",
       "\n",
       "    .dataframe thead th {\n",
       "        text-align: right;\n",
       "    }\n",
       "</style>\n",
       "<table border=\"1\" class=\"dataframe\">\n",
       "  <thead>\n",
       "    <tr style=\"text-align: right;\">\n",
       "      <th></th>\n",
       "    </tr>\n",
       "  </thead>\n",
       "  <tbody>\n",
       "  </tbody>\n",
       "</table>\n",
       "</div>"
      ],
      "text/plain": [
       "Empty DataFrame\n",
       "Columns: []\n",
       "Index: []"
      ]
     },
     "execution_count": 13,
     "metadata": {},
     "output_type": "execute_result"
    }
   ],
   "source": [
    "pantry1.index.get_parents(pantry1_df['uuid'][0])"
   ]
  },
  {
   "cell_type": "markdown",
   "id": "57096bff-4f16-4718-a078-20cd196e56ab",
   "metadata": {},
   "source": [
    "There are currently no parents or children associated with our pantry, just as we expected. Let's create some parents/children and then check this functionality out again. Notice the new basket is a new type and we supply a parent UUID to indicate it is derived from the previous basket.\n",
    "\n",
    "*Note: The parent to child relationship can be a many to many relationship*"
   ]
  },
  {
   "cell_type": "code",
   "execution_count": 14,
   "id": "4ffda2c9-a107-4a63-848d-b48f96e306ca",
   "metadata": {
    "tags": []
   },
   "outputs": [
    {
     "data": {
      "text/html": [
       "<div>\n",
       "<style scoped>\n",
       "    .dataframe tbody tr th:only-of-type {\n",
       "        vertical-align: middle;\n",
       "    }\n",
       "\n",
       "    .dataframe tbody tr th {\n",
       "        vertical-align: top;\n",
       "    }\n",
       "\n",
       "    .dataframe thead th {\n",
       "        text-align: right;\n",
       "    }\n",
       "</style>\n",
       "<table border=\"1\" class=\"dataframe\">\n",
       "  <thead>\n",
       "    <tr style=\"text-align: right;\">\n",
       "      <th></th>\n",
       "      <th>uuid</th>\n",
       "      <th>upload_time</th>\n",
       "      <th>parent_uuids</th>\n",
       "      <th>basket_type</th>\n",
       "      <th>label</th>\n",
       "      <th>weave_version</th>\n",
       "      <th>address</th>\n",
       "      <th>storage_type</th>\n",
       "    </tr>\n",
       "  </thead>\n",
       "  <tbody>\n",
       "    <tr>\n",
       "      <th>0</th>\n",
       "      <td>f879e47a626b11f0acc9d4d8534edb2f</td>\n",
       "      <td>2025-07-16 17:40:31.825584+00:00</td>\n",
       "      <td>[f868e7c0626b11f0845fd4d8534edb2f]</td>\n",
       "      <td>test-2</td>\n",
       "      <td></td>\n",
       "      <td>1.13.9</td>\n",
       "      <td>weave-demo-pantry\\test-2\\f879e47a626b11f0acc9d...</td>\n",
       "      <td>LocalFileSystem</td>\n",
       "    </tr>\n",
       "  </tbody>\n",
       "</table>\n",
       "</div>"
      ],
      "text/plain": [
       "                               uuid                      upload_time  \\\n",
       "0  f879e47a626b11f0acc9d4d8534edb2f 2025-07-16 17:40:31.825584+00:00   \n",
       "\n",
       "                         parent_uuids basket_type label weave_version  \\\n",
       "0  [f868e7c0626b11f0845fd4d8534edb2f]      test-2              1.13.9   \n",
       "\n",
       "                                             address     storage_type  \n",
       "0  weave-demo-pantry\\test-2\\f879e47a626b11f0acc9d...  LocalFileSystem  "
      ]
     },
     "execution_count": 14,
     "metadata": {},
     "output_type": "execute_result"
    }
   ],
   "source": [
    "pantry1.upload_basket(upload_items=[{'path':'WeaveDemoText.txt', 'stub':False}], basket_type=\"test-2\", parent_ids=[pantry1_df['uuid'][0]])"
   ]
  },
  {
   "cell_type": "markdown",
   "id": "43789c47-309f-4ba6-806d-408df690168f",
   "metadata": {},
   "source": [
    "Below we can see that we have a new basket whose parent is the first basket that we created. "
   ]
  },
  {
   "cell_type": "code",
   "execution_count": 15,
   "id": "b88553f3-a45e-4f91-9db1-c47b5e9131f7",
   "metadata": {
    "tags": []
   },
   "outputs": [
    {
     "data": {
      "text/html": [
       "<div>\n",
       "<style scoped>\n",
       "    .dataframe tbody tr th:only-of-type {\n",
       "        vertical-align: middle;\n",
       "    }\n",
       "\n",
       "    .dataframe tbody tr th {\n",
       "        vertical-align: top;\n",
       "    }\n",
       "\n",
       "    .dataframe thead th {\n",
       "        text-align: right;\n",
       "    }\n",
       "</style>\n",
       "<table border=\"1\" class=\"dataframe\">\n",
       "  <thead>\n",
       "    <tr style=\"text-align: right;\">\n",
       "      <th></th>\n",
       "      <th>uuid</th>\n",
       "      <th>upload_time</th>\n",
       "      <th>parent_uuids</th>\n",
       "      <th>basket_type</th>\n",
       "      <th>label</th>\n",
       "      <th>weave_version</th>\n",
       "      <th>address</th>\n",
       "      <th>storage_type</th>\n",
       "    </tr>\n",
       "  </thead>\n",
       "  <tbody>\n",
       "    <tr>\n",
       "      <th>0</th>\n",
       "      <td>f868e7c0626b11f0845fd4d8534edb2f</td>\n",
       "      <td>2025-07-16 17:40:31.719633+00:00</td>\n",
       "      <td>[]</td>\n",
       "      <td>test-1</td>\n",
       "      <td></td>\n",
       "      <td>1.13.9</td>\n",
       "      <td>weave-demo-pantry\\test-1\\f868e7c0626b11f0845fd...</td>\n",
       "      <td>LocalFileSystem</td>\n",
       "    </tr>\n",
       "    <tr>\n",
       "      <th>1</th>\n",
       "      <td>f879e47a626b11f0acc9d4d8534edb2f</td>\n",
       "      <td>2025-07-16 17:40:31.825584+00:00</td>\n",
       "      <td>[f868e7c0626b11f0845fd4d8534edb2f]</td>\n",
       "      <td>test-2</td>\n",
       "      <td></td>\n",
       "      <td>1.13.9</td>\n",
       "      <td>weave-demo-pantry\\test-2\\f879e47a626b11f0acc9d...</td>\n",
       "      <td>LocalFileSystem</td>\n",
       "    </tr>\n",
       "  </tbody>\n",
       "</table>\n",
       "</div>"
      ],
      "text/plain": [
       "                               uuid                      upload_time  \\\n",
       "0  f868e7c0626b11f0845fd4d8534edb2f 2025-07-16 17:40:31.719633+00:00   \n",
       "1  f879e47a626b11f0acc9d4d8534edb2f 2025-07-16 17:40:31.825584+00:00   \n",
       "\n",
       "                         parent_uuids basket_type label weave_version  \\\n",
       "0                                  []      test-1              1.13.9   \n",
       "1  [f868e7c0626b11f0845fd4d8534edb2f]      test-2              1.13.9   \n",
       "\n",
       "                                             address     storage_type  \n",
       "0  weave-demo-pantry\\test-1\\f868e7c0626b11f0845fd...  LocalFileSystem  \n",
       "1  weave-demo-pantry\\test-2\\f879e47a626b11f0acc9d...  LocalFileSystem  "
      ]
     },
     "execution_count": 15,
     "metadata": {},
     "output_type": "execute_result"
    }
   ],
   "source": [
    "pantry1_df = pantry1.index.to_pandas_df()\n",
    "pantry1_df"
   ]
  },
  {
   "cell_type": "markdown",
   "id": "d1bdc73c-6faf-4e1c-81ff-f52c42891ad4",
   "metadata": {},
   "source": [
    "We can quickly get the parent/children of our basket using get_children() and get_parent() passing in the appropriate UUID"
   ]
  },
  {
   "cell_type": "code",
   "execution_count": 16,
   "id": "f420020d-36a6-415f-ac27-c291ab623a85",
   "metadata": {
    "tags": []
   },
   "outputs": [
    {
     "data": {
      "text/html": [
       "<div>\n",
       "<style scoped>\n",
       "    .dataframe tbody tr th:only-of-type {\n",
       "        vertical-align: middle;\n",
       "    }\n",
       "\n",
       "    .dataframe tbody tr th {\n",
       "        vertical-align: top;\n",
       "    }\n",
       "\n",
       "    .dataframe thead th {\n",
       "        text-align: right;\n",
       "    }\n",
       "</style>\n",
       "<table border=\"1\" class=\"dataframe\">\n",
       "  <thead>\n",
       "    <tr style=\"text-align: right;\">\n",
       "      <th></th>\n",
       "      <th>uuid</th>\n",
       "      <th>upload_time</th>\n",
       "      <th>parent_uuids</th>\n",
       "      <th>basket_type</th>\n",
       "      <th>label</th>\n",
       "      <th>weave_version</th>\n",
       "      <th>address</th>\n",
       "      <th>storage_type</th>\n",
       "      <th>generation_level</th>\n",
       "    </tr>\n",
       "  </thead>\n",
       "  <tbody>\n",
       "    <tr>\n",
       "      <th>0</th>\n",
       "      <td>f879e47a626b11f0acc9d4d8534edb2f</td>\n",
       "      <td>2025-07-16 17:40:31.825584+00:00</td>\n",
       "      <td>[f868e7c0626b11f0845fd4d8534edb2f]</td>\n",
       "      <td>test-2</td>\n",
       "      <td></td>\n",
       "      <td>1.13.9</td>\n",
       "      <td>weave-demo-pantry\\test-2\\f879e47a626b11f0acc9d...</td>\n",
       "      <td>LocalFileSystem</td>\n",
       "      <td>-1</td>\n",
       "    </tr>\n",
       "  </tbody>\n",
       "</table>\n",
       "</div>"
      ],
      "text/plain": [
       "                               uuid                      upload_time  \\\n",
       "0  f879e47a626b11f0acc9d4d8534edb2f 2025-07-16 17:40:31.825584+00:00   \n",
       "\n",
       "                         parent_uuids basket_type label weave_version  \\\n",
       "0  [f868e7c0626b11f0845fd4d8534edb2f]      test-2              1.13.9   \n",
       "\n",
       "                                             address     storage_type  \\\n",
       "0  weave-demo-pantry\\test-2\\f879e47a626b11f0acc9d...  LocalFileSystem   \n",
       "\n",
       "   generation_level  \n",
       "0                -1  "
      ]
     },
     "execution_count": 16,
     "metadata": {},
     "output_type": "execute_result"
    }
   ],
   "source": [
    "pantry1.index.get_children(pantry1_df['uuid'][0])"
   ]
  },
  {
   "cell_type": "code",
   "execution_count": 17,
   "id": "ddfd3e45-691d-4465-a21a-748a3dd843fa",
   "metadata": {
    "tags": []
   },
   "outputs": [
    {
     "data": {
      "text/html": [
       "<div>\n",
       "<style scoped>\n",
       "    .dataframe tbody tr th:only-of-type {\n",
       "        vertical-align: middle;\n",
       "    }\n",
       "\n",
       "    .dataframe tbody tr th {\n",
       "        vertical-align: top;\n",
       "    }\n",
       "\n",
       "    .dataframe thead th {\n",
       "        text-align: right;\n",
       "    }\n",
       "</style>\n",
       "<table border=\"1\" class=\"dataframe\">\n",
       "  <thead>\n",
       "    <tr style=\"text-align: right;\">\n",
       "      <th></th>\n",
       "      <th>uuid</th>\n",
       "      <th>upload_time</th>\n",
       "      <th>parent_uuids</th>\n",
       "      <th>basket_type</th>\n",
       "      <th>label</th>\n",
       "      <th>weave_version</th>\n",
       "      <th>address</th>\n",
       "      <th>storage_type</th>\n",
       "      <th>generation_level</th>\n",
       "    </tr>\n",
       "  </thead>\n",
       "  <tbody>\n",
       "    <tr>\n",
       "      <th>0</th>\n",
       "      <td>f868e7c0626b11f0845fd4d8534edb2f</td>\n",
       "      <td>2025-07-16 17:40:31.719633+00:00</td>\n",
       "      <td>[]</td>\n",
       "      <td>test-1</td>\n",
       "      <td></td>\n",
       "      <td>1.13.9</td>\n",
       "      <td>weave-demo-pantry\\test-1\\f868e7c0626b11f0845fd...</td>\n",
       "      <td>LocalFileSystem</td>\n",
       "      <td>1</td>\n",
       "    </tr>\n",
       "  </tbody>\n",
       "</table>\n",
       "</div>"
      ],
      "text/plain": [
       "                               uuid                      upload_time  \\\n",
       "0  f868e7c0626b11f0845fd4d8534edb2f 2025-07-16 17:40:31.719633+00:00   \n",
       "\n",
       "  parent_uuids basket_type label weave_version  \\\n",
       "0           []      test-1              1.13.9   \n",
       "\n",
       "                                             address     storage_type  \\\n",
       "0  weave-demo-pantry\\test-1\\f868e7c0626b11f0845fd...  LocalFileSystem   \n",
       "\n",
       "   generation_level  \n",
       "0                 1  "
      ]
     },
     "execution_count": 17,
     "metadata": {},
     "output_type": "execute_result"
    }
   ],
   "source": [
    "pantry1.index.get_parents(pantry1_df['uuid'][1])"
   ]
  },
  {
   "cell_type": "markdown",
   "id": "64e385eb-9c4a-4077-aa57-bf7a73a77fa9",
   "metadata": {},
   "source": [
    "## Generating an index using the SQLite backend\n",
    "When creating a pantry using SQLite the index is represented as a SQLite object. For this pantry we will using SQLite for the index backend. An Index is an object or file that tracks the baskets in a pantry. Weave supports SQLite backend for larger pantries, and users can implement their own backend according to their needs."
   ]
  },
  {
   "cell_type": "code",
   "execution_count": 18,
   "id": "d79a3961-4f3c-472d-9e07-71acdd7cbfb2",
   "metadata": {},
   "outputs": [],
   "source": [
    "pantry2 = Pantry(IndexSQLite, pantry_path=pantry_name, file_system=local_fs)\n",
    "pantry2.index.generate_index()"
   ]
  },
  {
   "cell_type": "markdown",
   "id": "a3988ec3-0156-4623-bc67-b5a1362f7020",
   "metadata": {},
   "source": [
    "Now that we have created the index let's take a look at a dataframe containing our baskets.  "
   ]
  },
  {
   "cell_type": "code",
   "execution_count": 19,
   "id": "ac2f76dd-0912-4de6-bcf3-608e45b35f7b",
   "metadata": {
    "tags": []
   },
   "outputs": [
    {
     "data": {
      "text/html": [
       "<div>\n",
       "<style scoped>\n",
       "    .dataframe tbody tr th:only-of-type {\n",
       "        vertical-align: middle;\n",
       "    }\n",
       "\n",
       "    .dataframe tbody tr th {\n",
       "        vertical-align: top;\n",
       "    }\n",
       "\n",
       "    .dataframe thead th {\n",
       "        text-align: right;\n",
       "    }\n",
       "</style>\n",
       "<table border=\"1\" class=\"dataframe\">\n",
       "  <thead>\n",
       "    <tr style=\"text-align: right;\">\n",
       "      <th></th>\n",
       "      <th>uuid</th>\n",
       "      <th>upload_time</th>\n",
       "      <th>parent_uuids</th>\n",
       "      <th>basket_type</th>\n",
       "      <th>label</th>\n",
       "      <th>weave_version</th>\n",
       "      <th>address</th>\n",
       "      <th>storage_type</th>\n",
       "    </tr>\n",
       "  </thead>\n",
       "  <tbody>\n",
       "    <tr>\n",
       "      <th>0</th>\n",
       "      <td>f868e7c0626b11f0845fd4d8534edb2f</td>\n",
       "      <td>2025-07-16 17:40:31</td>\n",
       "      <td>[]</td>\n",
       "      <td>test-1</td>\n",
       "      <td></td>\n",
       "      <td>1.13.9</td>\n",
       "      <td>weave-demo-pantry\\test-1\\f868e7c0626b11f0845fd...</td>\n",
       "      <td>LocalFileSystem</td>\n",
       "    </tr>\n",
       "    <tr>\n",
       "      <th>1</th>\n",
       "      <td>f879e47a626b11f0acc9d4d8534edb2f</td>\n",
       "      <td>2025-07-16 17:40:31</td>\n",
       "      <td>[f868e7c0626b11f0845fd4d8534edb2f]</td>\n",
       "      <td>test-2</td>\n",
       "      <td></td>\n",
       "      <td>1.13.9</td>\n",
       "      <td>weave-demo-pantry\\test-2\\f879e47a626b11f0acc9d...</td>\n",
       "      <td>LocalFileSystem</td>\n",
       "    </tr>\n",
       "  </tbody>\n",
       "</table>\n",
       "</div>"
      ],
      "text/plain": [
       "                               uuid         upload_time  \\\n",
       "0  f868e7c0626b11f0845fd4d8534edb2f 2025-07-16 17:40:31   \n",
       "1  f879e47a626b11f0acc9d4d8534edb2f 2025-07-16 17:40:31   \n",
       "\n",
       "                         parent_uuids basket_type label weave_version  \\\n",
       "0                                  []      test-1              1.13.9   \n",
       "1  [f868e7c0626b11f0845fd4d8534edb2f]      test-2              1.13.9   \n",
       "\n",
       "                                             address     storage_type  \n",
       "0  weave-demo-pantry\\test-1\\f868e7c0626b11f0845fd...  LocalFileSystem  \n",
       "1  weave-demo-pantry\\test-2\\f879e47a626b11f0acc9d...  LocalFileSystem  "
      ]
     },
     "execution_count": 19,
     "metadata": {},
     "output_type": "execute_result"
    }
   ],
   "source": [
    "pantry2_df = pantry2.index.to_pandas_df()\n",
    "pantry2_df"
   ]
  },
  {
   "cell_type": "markdown",
   "id": "5804e801-2b9b-42f1-a834-559d046468f0",
   "metadata": {},
   "source": [
    "## Validating a Pantry\n",
    "\n",
    "Weave can validate an existing directory is a valid pantry following the Weave schema:"
   ]
  },
  {
   "cell_type": "code",
   "execution_count": 20,
   "id": "c584db7e-24fa-4fb9-95ea-a84d33a47b15",
   "metadata": {
    "tags": []
   },
   "outputs": [
    {
     "data": {
      "text/plain": [
       "[]"
      ]
     },
     "execution_count": 20,
     "metadata": {},
     "output_type": "execute_result"
    }
   ],
   "source": [
    "warnings = validate.validate_pantry(pantry1)\n",
    "# Or validate using the pantry object.\n",
    "pantry1.validate()"
   ]
  },
  {
   "cell_type": "markdown",
   "id": "98cf49e2-f437-433e-baf8-2cbf7a4a22fc",
   "metadata": {},
   "source": [
    "Since all the basket data is present we return an empty list. IF the basket manifest is deleted, then the list will contain a warning. Let's see this in action."
   ]
  },
  {
   "cell_type": "code",
   "execution_count": 21,
   "id": "8f52f9f1-17ec-4e2f-8966-9152f751eafa",
   "metadata": {
    "tags": []
   },
   "outputs": [],
   "source": [
    "local_fs.rm(os.path.join('weave-demo-pantry','test-1',str(pantry1_df['uuid'][0]),'basket_manifest.json'))"
   ]
  },
  {
   "cell_type": "code",
   "execution_count": 22,
   "id": "34866cff-78b7-4731-83f5-defa79e026f6",
   "metadata": {
    "tags": []
   },
   "outputs": [
    {
     "data": {
      "text/plain": [
       "[UserWarning(\"The uuids: ['f868e7c0626b11f0845fd4d8534edb2f'] were not found in the index, which was found inside basket: f879e47a626b11f0acc9d4d8534edb2f\")]"
      ]
     },
     "execution_count": 22,
     "metadata": {},
     "output_type": "execute_result"
    }
   ],
   "source": [
    "pantry1.validate()"
   ]
  },
  {
   "cell_type": "markdown",
   "id": "654cc536-c696-4a6e-84fc-9c0eba946112",
   "metadata": {},
   "source": [
    "Finally, lets clean up and remove the pantrys from our local file system"
   ]
  },
  {
   "cell_type": "code",
   "execution_count": 23,
   "id": "ea17f187-123e-4d2a-a16e-3d5ccb198f6f",
   "metadata": {
    "tags": []
   },
   "outputs": [],
   "source": [
    "local_fs.rm(\"weave-demo-pantry\", recursive=True)\n",
    "pantry2.index.drop_index()\n",
    "os.remove(\"WeaveDemoText.txt\")"
   ]
  },
  {
   "cell_type": "code",
   "execution_count": null,
   "id": "5437e590",
   "metadata": {},
   "outputs": [],
   "source": []
  }
 ],
 "metadata": {
  "kernelspec": {
   "display_name": "base",
   "language": "python",
   "name": "python3"
  },
  "language_info": {
   "codemirror_mode": {
    "name": "ipython",
    "version": 3
   },
   "file_extension": ".py",
   "mimetype": "text/x-python",
   "name": "python",
   "nbconvert_exporter": "python",
   "pygments_lexer": "ipython3",
   "version": "3.13.2"
  }
 },
 "nbformat": 4,
 "nbformat_minor": 5
}
